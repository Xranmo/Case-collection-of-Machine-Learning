{
 "cells": [
  {
   "cell_type": "markdown",
   "metadata": {
    "id": "392603719D904F33BB1743E99F5A3499",
    "jupyter": {
     "source_hidden": false
    },
    "mdEditEnable": false,
    "slideshow": {
     "slide_type": "slide"
    },
    "tags": []
   },
   "source": [
    "# Kaggle | Give Me Some Credit - 信用违约概率预测"
   ]
  },
  {
   "cell_type": "markdown",
   "metadata": {
    "id": "E4CE68FB44C34C6F93980B701D2E9804",
    "jupyter": {
     "source_hidden": false
    },
    "mdEditEnable": false,
    "slideshow": {
     "slide_type": "slide"
    },
    "tags": []
   },
   "source": [
    "## 文章目录：\n",
    "1. 前言  \n",
    "1.1 字段名称描述  \n",
    "\n",
    "2. 数据读取、初探  \n",
    "2.1 数据读取及基本描述总览  \n",
    "2.2 数据字段分布图、箱型图、关系热力图  \n",
    "\n",
    "3. 数据预处理相关函数构建  \n",
    "3.1 构建异常值及明显错误处理函数  \n",
    "3.2 构建去共线性函数  \n",
    "3.3 构建缺失值处理函数  \n",
    "3.4 构建重采样函数  \n",
    "\n",
    "4. 数据预处理&模型训练  \n",
    "4.1 逻辑回归模型  \n",
    "4.2 随机森林分类模型  \n",
    "4.3 xgboost模型  \n",
    "\n",
    "5. 预测并生成结果  \n",
    "\n",
    "6. 补充  "
   ]
  },
  {
   "cell_type": "markdown",
   "metadata": {
    "id": "F3384164125A42B98E0528B4BBAA9F4D",
    "jupyter": {
     "source_hidden": false
    },
    "mdEditEnable": false,
    "slideshow": {
     "slide_type": "slide"
    },
    "tags": []
   },
   "source": [
    "## 1.前言\n",
    "**本篇主要目的：进行数据建模，预测用户未来违约的概率，以此帮助借贷者做出最佳的财务决策。**\n",
    "* 运用模型：逻辑回归模型、随机森林分类模型、xgboost模型\n",
    "* 数据集下载链接 —— https://www.kaggle.com/c/GiveMeSomeCredit/data\n",
    "***（各位有任何建议和疑问请务必在评论区留言 ~）***"
   ]
  },
  {
   "cell_type": "markdown",
   "metadata": {
    "id": "FC7104398A9D437E85C506B0B0ABB0DB",
    "jupyter": {
     "source_hidden": false
    },
    "mdEditEnable": false,
    "slideshow": {
     "slide_type": "slide"
    },
    "tags": []
   },
   "source": [
    "### 1.1 字段名称描述\n",
    "* **SeriousDlqin2yrs**\t\n",
    "未来两年可能违约 \tY/N\n",
    "\n",
    "* **RevolvingUtilizationOfUnsecuredLines**\t\n",
    "信用卡和个人信用额度（不动产和汽车贷款等分期付款债务除外）的总余额除以信用额度之和 - 可用信贷额度比例  percentage\n",
    "\n",
    "* **age**\t \n",
    "借款人年龄（年） - 年龄\tinteger\n",
    "\n",
    "* **NumberOfTime30-59DaysPastDueNotWorse**\t\n",
    "借款人逾期30-59天的次数，但在过去两年内没有更糟的情况。 - 逾期30-59天的笔数\tinteger\n",
    "\n",
    "* **DebtRatio**\t \n",
    "月债务、赡养费、生活费除以月总收入 - 负债率\tpercentage\n",
    "\n",
    "* **MonthlyIncome**\t \n",
    "月收入 - 月收入\treal\n",
    "\n",
    "* **NumberOfOpenCreditLinesAndLoans**\t \n",
    "未偿贷款数量（分期付款，如汽车贷款或抵押贷款）和信贷额度（如信用卡） - 信贷数量\tinteger\n",
    "\n",
    "* **NumberOfTimes90DaysLate**\t \n",
    "借款人逾期90天或以上的次数。 - 逾期90天+的笔数\tinteger\n",
    "\n",
    "* **NumberRealEstateLoansOrLines**\t \n",
    "包括房屋净值信贷额度在内的抵押贷款和房地产贷款数量 - 固定资产贷款数\tinteger\n",
    "\n",
    "* **NumberOfTime60-89DaysPastDueNotWorse**\t \n",
    "借款人逾期60-89天的次数，但在过去两年内没有更糟的情况。 - 逾期60-89天的笔数\tinteger\n",
    "\n",
    "* **NumberOfDependents** \n",
    "家庭中不包括自己的受抚养人数量（配偶、子女等） - 家属数量\tinteger"
   ]
  },
  {
   "cell_type": "code",
   "execution_count": 1,
   "metadata": {
    "id": "530D9773DBCA4E00997805414BEBABB4",
    "jupyter": {
     "source_hidden": false
    },
    "scrolled": false,
    "slideshow": {
     "slide_type": "slide"
    },
    "tags": []
   },
   "outputs": [
    {
     "name": "stderr",
     "output_type": "stream",
     "text": [
      "/opt/conda/lib/python3.6/importlib/_bootstrap.py:219: RuntimeWarning: numpy.dtype size changed, may indicate binary incompatibility. Expected 96, got 88\n",
      "  return f(*args, **kwds)\n",
      "/opt/conda/lib/python3.6/importlib/_bootstrap.py:219: RuntimeWarning: numpy.dtype size changed, may indicate binary incompatibility. Expected 96, got 88\n",
      "  return f(*args, **kwds)\n"
     ]
    }
   ],
   "source": [
    "import pandas as pd\n",
    "import numpy as np\n",
    "import seaborn as sns\n",
    "import xgboost as xgb\n",
    "import matplotlib.pyplot as plt\n",
    "from sklearn.pipeline import Pipeline\n",
    "from sklearn.preprocessing import StandardScaler,PowerTransformer\n",
    "from sklearn.linear_model import LinearRegression,LassoCV,LogisticRegression\n",
    "from sklearn.ensemble import RandomForestClassifier,RandomForestRegressor\n",
    "from sklearn.model_selection import KFold,train_test_split,StratifiedKFold,GridSearchCV,cross_val_score\n",
    "from sklearn.metrics import mean_squared_error, mean_absolute_error, r2_score,accuracy_score, \\\n",
    "                            precision_score,recall_score, roc_auc_score\n",
    "import warnings\n",
    "warnings.filterwarnings('ignore')"
   ]
  },
  {
   "cell_type": "markdown",
   "metadata": {
    "id": "149FE18BBE7845BD97EF6FD0651B3A87",
    "jupyter": {
     "source_hidden": false
    },
    "mdEditEnable": false,
    "slideshow": {
     "slide_type": "slide"
    },
    "tags": []
   },
   "source": [
    "## 2.数据读取、初探"
   ]
  },
  {
   "cell_type": "markdown",
   "metadata": {
    "id": "75CAC129BF0E4DD99310EA8F879E3219",
    "jupyter": {},
    "mdEditEnable": false,
    "scrolled": false,
    "slideshow": {
     "slide_type": "slide"
    },
    "tags": []
   },
   "source": [
    "### 2.1 数据读取及基本描述总览"
   ]
  },
  {
   "cell_type": "code",
   "execution_count": 2,
   "metadata": {
    "id": "508B688274A54BE8B0FF22D49B63D500",
    "jupyter": {
     "source_hidden": false
    },
    "scrolled": false,
    "slideshow": {
     "slide_type": "slide"
    },
    "tags": []
   },
   "outputs": [
    {
     "name": "stdout",
     "output_type": "stream",
     "text": [
      "<class 'pandas.core.frame.DataFrame'>\n",
      "RangeIndex: 150000 entries, 0 to 149999\n",
      "Data columns (total 11 columns):\n",
      "未来两年可能违约       150000 non-null int64\n",
      "可用信贷额度比例       150000 non-null float64\n",
      "年龄             150000 non-null int64\n",
      "逾期30-59天的笔数    150000 non-null int64\n",
      "负债率            150000 non-null float64\n",
      "月收入            120269 non-null float64\n",
      "信贷数量           150000 non-null int64\n",
      "逾期90天+的笔数      150000 non-null int64\n",
      "固定资产贷款数        150000 non-null int64\n",
      "逾期60-89天的笔数    150000 non-null int64\n",
      "家属数量           146076 non-null float64\n",
      "dtypes: float64(4), int64(7)\n",
      "memory usage: 12.6 MB\n",
      "None\n",
      "                       0            1            2           3             4\n",
      "未来两年可能违约        1.000000     0.000000     0.000000     0.00000      0.000000\n",
      "可用信贷额度比例        0.766127     0.957151     0.658180     0.23381      0.907239\n",
      "年龄             45.000000    40.000000    38.000000    30.00000     49.000000\n",
      "逾期30-59天的笔数     2.000000     0.000000     1.000000     0.00000      1.000000\n",
      "负债率             0.802982     0.121876     0.085113     0.03605      0.024926\n",
      "月收入          9120.000000  2600.000000  3042.000000  3300.00000  63588.000000\n",
      "信贷数量           13.000000     4.000000     2.000000     5.00000      7.000000\n",
      "逾期90天+的笔数       0.000000     0.000000     1.000000     0.00000      0.000000\n",
      "固定资产贷款数         6.000000     0.000000     0.000000     0.00000      1.000000\n",
      "逾期60-89天的笔数     0.000000     0.000000     0.000000     0.00000      0.000000\n",
      "家属数量            2.000000     1.000000     0.000000     0.00000      0.000000\n"
     ]
    },
    {
     "data": {
      "text/html": [
       "<div>\n",
       "<style scoped>\n",
       "    .dataframe tbody tr th:only-of-type {\n",
       "        vertical-align: middle;\n",
       "    }\n",
       "\n",
       "    .dataframe tbody tr th {\n",
       "        vertical-align: top;\n",
       "    }\n",
       "\n",
       "    .dataframe thead th {\n",
       "        text-align: right;\n",
       "    }\n",
       "</style>\n",
       "<table border=\"1\" class=\"dataframe\">\n",
       "  <thead>\n",
       "    <tr style=\"text-align: right;\">\n",
       "      <th></th>\n",
       "      <th>count</th>\n",
       "      <th>mean</th>\n",
       "      <th>std</th>\n",
       "      <th>min</th>\n",
       "      <th>25%</th>\n",
       "      <th>50%</th>\n",
       "      <th>75%</th>\n",
       "      <th>max</th>\n",
       "    </tr>\n",
       "  </thead>\n",
       "  <tbody>\n",
       "    <tr>\n",
       "      <th>未来两年可能违约</th>\n",
       "      <td>150000.0</td>\n",
       "      <td>0.066840</td>\n",
       "      <td>0.249746</td>\n",
       "      <td>0.0</td>\n",
       "      <td>0.000000</td>\n",
       "      <td>0.000000</td>\n",
       "      <td>0.000000</td>\n",
       "      <td>1.0</td>\n",
       "    </tr>\n",
       "    <tr>\n",
       "      <th>可用信贷额度比例</th>\n",
       "      <td>150000.0</td>\n",
       "      <td>6.048438</td>\n",
       "      <td>249.755371</td>\n",
       "      <td>0.0</td>\n",
       "      <td>0.029867</td>\n",
       "      <td>0.154181</td>\n",
       "      <td>0.559046</td>\n",
       "      <td>50708.0</td>\n",
       "    </tr>\n",
       "    <tr>\n",
       "      <th>年龄</th>\n",
       "      <td>150000.0</td>\n",
       "      <td>52.295207</td>\n",
       "      <td>14.771866</td>\n",
       "      <td>0.0</td>\n",
       "      <td>41.000000</td>\n",
       "      <td>52.000000</td>\n",
       "      <td>63.000000</td>\n",
       "      <td>109.0</td>\n",
       "    </tr>\n",
       "    <tr>\n",
       "      <th>逾期30-59天的笔数</th>\n",
       "      <td>150000.0</td>\n",
       "      <td>0.421033</td>\n",
       "      <td>4.192781</td>\n",
       "      <td>0.0</td>\n",
       "      <td>0.000000</td>\n",
       "      <td>0.000000</td>\n",
       "      <td>0.000000</td>\n",
       "      <td>98.0</td>\n",
       "    </tr>\n",
       "    <tr>\n",
       "      <th>负债率</th>\n",
       "      <td>150000.0</td>\n",
       "      <td>353.005076</td>\n",
       "      <td>2037.818523</td>\n",
       "      <td>0.0</td>\n",
       "      <td>0.175074</td>\n",
       "      <td>0.366508</td>\n",
       "      <td>0.868254</td>\n",
       "      <td>329664.0</td>\n",
       "    </tr>\n",
       "    <tr>\n",
       "      <th>月收入</th>\n",
       "      <td>120269.0</td>\n",
       "      <td>6670.221237</td>\n",
       "      <td>14384.674215</td>\n",
       "      <td>0.0</td>\n",
       "      <td>3400.000000</td>\n",
       "      <td>5400.000000</td>\n",
       "      <td>8249.000000</td>\n",
       "      <td>3008750.0</td>\n",
       "    </tr>\n",
       "    <tr>\n",
       "      <th>信贷数量</th>\n",
       "      <td>150000.0</td>\n",
       "      <td>8.452760</td>\n",
       "      <td>5.145951</td>\n",
       "      <td>0.0</td>\n",
       "      <td>5.000000</td>\n",
       "      <td>8.000000</td>\n",
       "      <td>11.000000</td>\n",
       "      <td>58.0</td>\n",
       "    </tr>\n",
       "    <tr>\n",
       "      <th>逾期90天+的笔数</th>\n",
       "      <td>150000.0</td>\n",
       "      <td>0.265973</td>\n",
       "      <td>4.169304</td>\n",
       "      <td>0.0</td>\n",
       "      <td>0.000000</td>\n",
       "      <td>0.000000</td>\n",
       "      <td>0.000000</td>\n",
       "      <td>98.0</td>\n",
       "    </tr>\n",
       "    <tr>\n",
       "      <th>固定资产贷款数</th>\n",
       "      <td>150000.0</td>\n",
       "      <td>1.018240</td>\n",
       "      <td>1.129771</td>\n",
       "      <td>0.0</td>\n",
       "      <td>0.000000</td>\n",
       "      <td>1.000000</td>\n",
       "      <td>2.000000</td>\n",
       "      <td>54.0</td>\n",
       "    </tr>\n",
       "    <tr>\n",
       "      <th>逾期60-89天的笔数</th>\n",
       "      <td>150000.0</td>\n",
       "      <td>0.240387</td>\n",
       "      <td>4.155179</td>\n",
       "      <td>0.0</td>\n",
       "      <td>0.000000</td>\n",
       "      <td>0.000000</td>\n",
       "      <td>0.000000</td>\n",
       "      <td>98.0</td>\n",
       "    </tr>\n",
       "    <tr>\n",
       "      <th>家属数量</th>\n",
       "      <td>146076.0</td>\n",
       "      <td>0.757222</td>\n",
       "      <td>1.115086</td>\n",
       "      <td>0.0</td>\n",
       "      <td>0.000000</td>\n",
       "      <td>0.000000</td>\n",
       "      <td>1.000000</td>\n",
       "      <td>20.0</td>\n",
       "    </tr>\n",
       "  </tbody>\n",
       "</table>\n",
       "</div>"
      ],
      "text/plain": [
       "                count         mean           std  min          25%  \\\n",
       "未来两年可能违约     150000.0     0.066840      0.249746  0.0     0.000000   \n",
       "可用信贷额度比例     150000.0     6.048438    249.755371  0.0     0.029867   \n",
       "年龄           150000.0    52.295207     14.771866  0.0    41.000000   \n",
       "逾期30-59天的笔数  150000.0     0.421033      4.192781  0.0     0.000000   \n",
       "负债率          150000.0   353.005076   2037.818523  0.0     0.175074   \n",
       "月收入          120269.0  6670.221237  14384.674215  0.0  3400.000000   \n",
       "信贷数量         150000.0     8.452760      5.145951  0.0     5.000000   \n",
       "逾期90天+的笔数    150000.0     0.265973      4.169304  0.0     0.000000   \n",
       "固定资产贷款数      150000.0     1.018240      1.129771  0.0     0.000000   \n",
       "逾期60-89天的笔数  150000.0     0.240387      4.155179  0.0     0.000000   \n",
       "家属数量         146076.0     0.757222      1.115086  0.0     0.000000   \n",
       "\n",
       "                     50%          75%        max  \n",
       "未来两年可能违约        0.000000     0.000000        1.0  \n",
       "可用信贷额度比例        0.154181     0.559046    50708.0  \n",
       "年龄             52.000000    63.000000      109.0  \n",
       "逾期30-59天的笔数     0.000000     0.000000       98.0  \n",
       "负债率             0.366508     0.868254   329664.0  \n",
       "月收入          5400.000000  8249.000000  3008750.0  \n",
       "信贷数量            8.000000    11.000000       58.0  \n",
       "逾期90天+的笔数       0.000000     0.000000       98.0  \n",
       "固定资产贷款数         1.000000     2.000000       54.0  \n",
       "逾期60-89天的笔数     0.000000     0.000000       98.0  \n",
       "家属数量            0.000000     1.000000       20.0  "
      ]
     },
     "execution_count": 2,
     "metadata": {},
     "output_type": "execute_result"
    }
   ],
   "source": [
    "df0 = pd.read_csv('/Users/ranmo/Desktop/机器学习项目集/信用违约预测模型/data/train.csv')\n",
    "df0 = df0.drop('Unnamed: 0',axis=1)\n",
    "# 为方便查看调整列名为中文\n",
    "df0.rename(columns = {'SeriousDlqin2yrs':'未来两年可能违约', 'RevolvingUtilizationOfUnsecuredLines':'可用信贷额度比例', 'age':'年龄',\n",
    "       'NumberOfTime30-59DaysPastDueNotWorse':'逾期30-59天的笔数', 'DebtRatio':'负债率', 'MonthlyIncome':'月收入',\n",
    "       'NumberOfOpenCreditLinesAndLoans':'信贷数量', 'NumberOfTimes90DaysLate':'逾期90天+的笔数',\n",
    "       'NumberRealEstateLoansOrLines':'固定资产贷款数', 'NumberOfTime60-89DaysPastDueNotWorse':'逾期60-89天的笔数',\n",
    "       'NumberOfDependents':'家属数量'},inplace=True)\n",
    "print(df0.info())\n",
    "print(df0.head().T)\n",
    "df0.describe().T"
   ]
  },
  {
   "cell_type": "code",
   "execution_count": 3,
   "metadata": {
    "id": "38BC09111EC84A9181A6C75ECFF24C35",
    "jupyter": {
     "source_hidden": false
    },
    "scrolled": false,
    "slideshow": {
     "slide_type": "slide"
    },
    "tags": []
   },
   "outputs": [
    {
     "name": "stdout",
     "output_type": "stream",
     "text": [
      "0    139974\n",
      "1     10026\n",
      "Name: 未来两年可能违约, dtype: int64\n"
     ]
    },
    {
     "data": {
      "text/plain": [
       "未来两年可能违约           0\n",
       "可用信贷额度比例           0\n",
       "年龄                 0\n",
       "逾期30-59天的笔数        0\n",
       "负债率                0\n",
       "月收入            29731\n",
       "信贷数量               0\n",
       "逾期90天+的笔数          0\n",
       "固定资产贷款数            0\n",
       "逾期60-89天的笔数        0\n",
       "家属数量            3924\n",
       "dtype: int64"
      ]
     },
     "execution_count": 3,
     "metadata": {},
     "output_type": "execute_result"
    }
   ],
   "source": [
    "# 类别分布很不平衡，会影响建模效果\n",
    "print(df0.未来两年可能违约.value_counts())\n",
    "\n",
    "# 观察缺失值数,月收入 缺失29731，家属数量 缺失3924\n",
    "df0.isnull().sum()"
   ]
  },
  {
   "cell_type": "markdown",
   "metadata": {
    "id": "4DF6750A9D7D47FDA1320ADF49F96C48",
    "jupyter": {},
    "mdEditEnable": false,
    "slideshow": {
     "slide_type": "slide"
    },
    "tags": []
   },
   "source": [
    "### 2.2 数据字段分布图、箱型图、关系热力图"
   ]
  },
  {
   "cell_type": "code",
   "execution_count": 4,
   "metadata": {
    "id": "275B0632E66F4A308D8DF44D6F70D518",
    "jupyter": {
     "source_hidden": false
    },
    "scrolled": false,
    "slideshow": {
     "slide_type": "slide"
    },
    "tags": []
   },
   "outputs": [
    {
     "data": {
      "text/html": [
       "<img src=\"https://cdn.kesci.com/rt_upload/275B0632E66F4A308D8DF44D6F70D518/pzqnm9syo1.png\">"
      ],
      "text/plain": [
       "<Figure size 6000x6000 with 11 Axes>"
      ]
     },
     "metadata": {
      "needs_background": "light"
     },
     "output_type": "display_data"
    }
   ],
   "source": [
    "# 输出各字段分布情况图\n",
    "# 大多数字段明显偏态，后续建模需考虑纠偏处理\n",
    "plt.figure(figsize=(20,20),dpi=300)\n",
    "plt.subplots_adjust(wspace =0.3, hspace =0.3)\n",
    "for n,i in enumerate(df0.columns):\n",
    "    plt.subplot(4,3,n+1)\n",
    "    plt.title(i,fontsize=15)\n",
    "    plt.grid(linestyle='--')\n",
    "    df0[i].hist(color='grey',alpha=0.5)"
   ]
  },
  {
   "cell_type": "code",
   "execution_count": 5,
   "metadata": {
    "id": "7EC4B0FBBAFE4A1DAE1FB64C6412B740",
    "jupyter": {
     "source_hidden": false
    },
    "scrolled": false,
    "slideshow": {
     "slide_type": "slide"
    },
    "tags": []
   },
   "outputs": [
    {
     "data": {
      "text/html": [
       "<img src=\"https://cdn.kesci.com/rt_upload/7EC4B0FBBAFE4A1DAE1FB64C6412B740/pzqnmjzy90.png\">"
      ],
      "text/plain": [
       "<Figure size 6000x6000 with 11 Axes>"
      ]
     },
     "metadata": {
      "needs_background": "light"
     },
     "output_type": "display_data"
    }
   ],
   "source": [
    "# 通过箱型图观察各字段异常情况\n",
    "# 负债率异常值（错误）较多；可用信贷额度比例 异常值（错误）较多，理论应小于或等于1\n",
    "#  '逾期30-59天的笔数', '负债率', '月收入','逾期90天+的笔数', '固定资产贷款数', '逾期60-89天的笔数'异常值非常多，难以观察数据分布。\n",
    "# 年龄方面异常值有待观察\n",
    "plt.figure(figsize=(20,20),dpi=300)\n",
    "plt.subplots_adjust(wspace =0.3, hspace =0.3)\n",
    "for n,i in enumerate(df0.columns):\n",
    "    plt.subplot(4,3,n+1)\n",
    "    plt.title(i,fontsize=15)\n",
    "    plt.grid(linestyle='--')\n",
    "    df0[[i]].boxplot(sym='.')"
   ]
  },
  {
   "cell_type": "code",
   "execution_count": 6,
   "metadata": {
    "id": "05F77BD73944454B8940B0F05DB9464F",
    "jupyter": {
     "source_hidden": false
    },
    "scrolled": false,
    "slideshow": {
     "slide_type": "slide"
    },
    "tags": []
   },
   "outputs": [
    {
     "data": {
      "text/plain": [
       "<matplotlib.axes._subplots.AxesSubplot at 0x7fc880d3a320>"
      ]
     },
     "execution_count": 6,
     "metadata": {},
     "output_type": "execute_result"
    },
    {
     "data": {
      "text/html": [
       "<img src=\"https://cdn.kesci.com/rt_upload/05F77BD73944454B8940B0F05DB9464F/pzqnmmilv2.png\">"
      ],
      "text/plain": [
       "<Figure size 3000x1500 with 2 Axes>"
      ]
     },
     "metadata": {
      "needs_background": "light"
     },
     "output_type": "display_data"
    }
   ],
   "source": [
    "# 由图可知，逾期笔数这三个字段，共线性极高，可考虑去除共线性\n",
    "plt.figure(figsize=(10,5),dpi=300)\n",
    "sns.heatmap(df0.corr(),cmap='Reds',annot=True)"
   ]
  },
  {
   "cell_type": "markdown",
   "metadata": {
    "id": "90BF5F24E6CB4DE49B65AB62E099311A",
    "jupyter": {
     "source_hidden": false
    },
    "mdEditEnable": false,
    "slideshow": {
     "slide_type": "slide"
    },
    "tags": []
   },
   "source": [
    "## 3.数据预处理相关函数构建"
   ]
  },
  {
   "cell_type": "markdown",
   "metadata": {
    "id": "4E17C8AC035C4F31A79A0C387854D1F2",
    "jupyter": {
     "source_hidden": false
    },
    "mdEditEnable": false,
    "slideshow": {
     "slide_type": "slide"
    },
    "tags": []
   },
   "source": [
    "### 3.1 构建异常值及明显错误处理函数"
   ]
  },
  {
   "cell_type": "code",
   "execution_count": 8,
   "metadata": {
    "id": "98636D501EB6461382FEB9E352043FC1",
    "jupyter": {
     "source_hidden": false
    },
    "scrolled": false,
    "slideshow": {
     "slide_type": "slide"
    },
    "tags": []
   },
   "outputs": [],
   "source": [
    "def error_processing(df):\n",
    "    '''\n",
    "    异常值处理，可根据建模效果，反复调节处理方案，建议谨慎删除数据。\n",
    "    df：数据源\n",
    "    '''\n",
    "    def show_error(df,col,whis=1.5,show=False):\n",
    "        '''\n",
    "        显示上下限异常值数量，可选显示示例异常数据\n",
    "        df：数据源\n",
    "        col：字段名\n",
    "        whis：默认1.5，对应1.5倍iqr\n",
    "        show：是否显示示例异常数据\n",
    "        '''\n",
    "        iqr = df[col].quantile(0.75) - df[col].quantile(0.25)\n",
    "        upper_bound = df[col].quantile(0.75) + whis * iqr # 上界\n",
    "        lower_bound = df[col].quantile(0.25) - whis * iqr # 下界\n",
    "        # print(iqr,upper_bound,lower_bound)\n",
    "        print('【',col,'】上界异常值总数：',df[col][df[col] > upper_bound].count())\n",
    "        if show:\n",
    "            print('异常值示例：\\n',df[df[col] > upper_bound].head(5).T)\n",
    "        print('【',col,'】下界异常值总数：',df[col][df[col] < lower_bound].count())\n",
    "        if show:\n",
    "            print('异常值示例：\\n',df[df[col] < lower_bound].head(5).T)\n",
    "        print('- - - - - - ')\n",
    "\n",
    "    def drop_error(df,col):\n",
    "        '''\n",
    "        删除上下限异常值数量\n",
    "        df：数据源\n",
    "        col：字段名\n",
    "        '''\n",
    "        iqr = df[col].quantile(0.75) - df[col].quantile(0.25)\n",
    "        upper_bound = df[col].quantile(0.75) + 1.5*iqr # 上界\n",
    "        lower_bound = df[col].quantile(0.25) - 1.5*iqr # 下界\n",
    "        data_del = df[col][(df[col] > upper_bound) | (df[col] < lower_bound)].count()\n",
    "        data = df[(df[col] <= upper_bound) & (df[col] >= lower_bound)]\n",
    "        # print('总剔除数据量：',data_del)\n",
    "        return data\n",
    "    \n",
    "    # 计数器\n",
    "    n = len(df)\n",
    "    \n",
    "    # 可用信贷额度\n",
    "    # 从分布直方图可知，比例大于1的应该为错误值。\n",
    "    # 错误值共3321，若剔除可能影响建模效果。剔除>=20000的数据\n",
    "    show_error(df,'可用信贷额度比例')\n",
    "    df = df[df.可用信贷额度比例<=20000]\n",
    "\n",
    "    # 年龄\n",
    "    # 异常值数量不多，剔除年龄大于100小于18的异常数据\n",
    "    show_error(df,'年龄')\n",
    "    df = df[(df['年龄']>18) & (df['年龄']<100)]\n",
    "\n",
    "    # 逾期30-59天的笔数\n",
    "    # 根据箱型图去除>80的异常数据\n",
    "    show_error(df,'逾期30-59天的笔数')\n",
    "    df = df[df['逾期30-59天的笔数']<80]\n",
    "\n",
    "    # 逾期90天+的笔数\n",
    "    # 根据箱型图去除>80的异常数据\n",
    "    show_error(df,'逾期90天+的笔数')\n",
    "    df = df[df['逾期90天+的笔数']<80]\n",
    "\n",
    "    # 逾期60-89天的笔数\n",
    "    # 根据箱型图去除>80的异常数据\n",
    "    show_error(df,'逾期60-89天的笔数')\n",
    "    df = df[df['逾期60-89天的笔数']<80]\n",
    "\n",
    "    # 负债率\n",
    "    # 根据箱型图去除>100000的异常数据\n",
    "    show_error(df,'负债率')\n",
    "    df = df[df['负债率']<100000]\n",
    "\n",
    "    # 月收入\n",
    "    # 根据箱型图去除>500000的异常数据\n",
    "    show_error(df,'月收入')\n",
    "    df = df[(df['月收入']<500000) | df.月收入.isna()]\n",
    "\n",
    "    # 固定资产贷款数\n",
    "    # 根据箱型图去除>20的异常数据\n",
    "    show_error(df,'固定资产贷款数')\n",
    "    df = df[df['固定资产贷款数']<20]\n",
    "\n",
    "    # 家属数量\n",
    "    # 根据箱型图去除>10的异常数据\n",
    "    show_error(df,'家属数量')\n",
    "    df = df[(df['家属数量']<12)|df.家属数量.isna()]\n",
    "\n",
    "    # 信贷数量 - 保留异常值\n",
    "    \n",
    "    print('共删除数据 ',n - len(df),' 条。')"
   ]
  },
  {
   "cell_type": "markdown",
   "metadata": {
    "id": "D4C644B151FD4E7A8A43A65615CE38D3",
    "jupyter": {
     "source_hidden": false
    },
    "mdEditEnable": false,
    "slideshow": {
     "slide_type": "slide"
    },
    "tags": []
   },
   "source": [
    "### 3.2 构建去共线性函数"
   ]
  },
  {
   "cell_type": "code",
   "execution_count": 9,
   "metadata": {
    "id": "AB2288FCE3D04B778EFCB7AFC6720D94",
    "jupyter": {
     "source_hidden": false
    },
    "scrolled": false,
    "slideshow": {
     "slide_type": "slide"
    },
    "tags": []
   },
   "outputs": [],
   "source": [
    "# 3种违约情况，从上节的相关系数热力图中，可以看出有很高的共线性\n",
    "# 可考虑保留'逾期90天+的笔数'，求出'逾期60-89天的笔数'/'逾期30-59天的笔数'的比值\n",
    "def collineation_processing(df,col,col1,col2,name):\n",
    "    '''\n",
    "    去除共线性，保留一个字段，其他字段求比值\n",
    "    df：数据源\n",
    "    col：保留字段\n",
    "    col1，col2：求比值字段\n",
    "    name：新比值字段名称\n",
    "    '''\n",
    "    def trans2percent(row):\n",
    "        if row[col2] == 0:\n",
    "            return 0\n",
    "        else:\n",
    "            return row[col1] / row[col2]\n",
    "    df[name] = df.apply(trans2percent,axis=1)\n",
    "#     df[[name,col]].corr()\n",
    "    \n",
    "# collineation_processing(df,'逾期90天+的笔数'，'逾期60-89天的笔数'，'逾期30-59天的笔数'，'逾期60-89天/30-59天')"
   ]
  },
  {
   "cell_type": "markdown",
   "metadata": {
    "id": "F3391CAD084C44388CFEF9CA859AE79B",
    "jupyter": {
     "source_hidden": false
    },
    "mdEditEnable": false,
    "slideshow": {
     "slide_type": "slide"
    },
    "tags": []
   },
   "source": [
    "### 3.3 构建缺失值处理函数"
   ]
  },
  {
   "cell_type": "code",
   "execution_count": 10,
   "metadata": {
    "id": "C04CDC81AFD244DBA5D4A0AC4E8A1BA2",
    "jupyter": {
     "source_hidden": false
    },
    "scrolled": false,
    "slideshow": {
     "slide_type": "slide"
    },
    "tags": []
   },
   "outputs": [],
   "source": [
    "def missing_values_processing(df,func1=1,func2=1):\n",
    "    '''\n",
    "    缺失值处理\n",
    "    df：数据源\n",
    "    func1：默认为1，众数填充家属；0，去除带空值数据行。\n",
    "    func2：默认为1，众数填充月收入；0，平均数填充月收入。\n",
    "    '''\n",
    "    # 家属数量 - 剔除或众数填充\n",
    "    if func1 == 1:\n",
    "        df.loc[df.家属数量.isna(),'家属数量'] = df.家属数量.mode()[0]\n",
    "    elif func1 == 0:\n",
    "        df = df.dropna(subset=['家属数量'])\n",
    "    else:\n",
    "        print('parameter wrong!')\n",
    "    \n",
    "    # 月收入 - 剔除或均值填充\n",
    "    if func1 == 1:\n",
    "        df.loc[df.月收入.isna(),'月收入'] = df.月收入.mode()[0]\n",
    "    elif func1 == 0:    \n",
    "        df.loc[df.月收入.isna(),'月收入'] = df.月收入.mean()[0]\n",
    "    else:\n",
    "        print('parameter wrong!')\n",
    "\n",
    "    # 可考虑建模填充 月收入，构建回归模型性能查看函数（最终测试结果很不理想）\n",
    "#     def perfomance_reg(model,X,y,name=None):\n",
    "#         y_predict = model.predict(X)\n",
    "#         check = pd.DataFrame(y)\n",
    "#         check['y_predict'] = y_predict\n",
    "#         check['abs_err'] = abs(check['y_predict'] - check[y.name] )\n",
    "#         check['ape'] = check['abs_err'] / check[y.name]\n",
    "#         ape = check['ape'][check['ape']!=np.inf].mean()\n",
    "#         if name:\n",
    "#             print(name,':')\n",
    "#         print(f'mean squared error is: {mean_squared_error(y,y_predict)}')\n",
    "#         print(f'mean absolute error is: {mean_absolute_error(y,y_predict)}')\n",
    "#         print(f'R Squared is: {r2_score(y,y_predict)}')\n",
    "#         print(f'mean absolute percent error is: {ape}')\n",
    "#         print('- - - - - - ')\n",
    "        \n",
    "    # 线性回归填充月收入,mae较大\n",
    "#     train_x = df1[df1.月收入.notna()].drop(['逾期30-59天的笔数','逾期60-89天的笔数','月收入'],axis=1)\n",
    "#     train_y = df1[df1.月收入.notna()].月收入\n",
    "#     test_x = df1[df1.月收入.isna()].drop(['逾期30-59天的笔数','逾期60-89天的笔数','月收入'],axis=1)\n",
    "#     pipe_lr = Pipeline([\n",
    "#             ('sc',StandardScaler()),\n",
    "#             ('pow_trans',PowerTransformer()),\n",
    "#             ('rf',LinearRegression())\n",
    "#             ])\n",
    "#     pipe_lr.fit(train_x,train_y)\n",
    "#     perfomance_reg(pipe_lr,train_x,train_y)\n",
    "#     pipe_lr.predict(test_x)\n",
    "\n",
    "    # 随机森林填充月收入，表现较线性回归略好一点,但也很差\n",
    "#     dd = df1[df1.月收入.notna()].sample(n=5000)\n",
    "#     train_x_sample = dd.drop(['逾期30-59天的笔数','逾期60-89天的笔数','月收入'],axis=1)\n",
    "#     train_y_sample = dd.月收入\n",
    "#     test_x_sample = df1[df1.月收入.isna()].drop(['逾期30-59天的笔数','逾期60-89天的笔数','月收入'],axis=1)\n",
    "#     pipe_rf = Pipeline([\n",
    "#             ('sc',StandardScaler()),\n",
    "#             ('pow_trans',PowerTransformer()),\n",
    "#             ('rf',RandomForestRegressor(criterion='mae',n_estimators=200,verbose=1,n_jobs=-1))\n",
    "#             ])\n",
    "#     pipe_rf.fit(train_x_sample,train_y_sample)\n",
    "#     perfomance_reg(pipe_rf,train_x_sample,train_y_sample)\n",
    "#     df1.loc[df1.月收入.isna(),'月收入'] = pipe_rf.predict(test_x_sample)"
   ]
  },
  {
   "cell_type": "markdown",
   "metadata": {
    "id": "97C0AB083F04465AAF742F887573B35F",
    "jupyter": {
     "source_hidden": false
    },
    "mdEditEnable": false,
    "slideshow": {
     "slide_type": "slide"
    },
    "tags": []
   },
   "source": [
    "### 3.4 构建重采样函数"
   ]
  },
  {
   "cell_type": "code",
   "execution_count": 11,
   "metadata": {
    "id": "631AE80926274554A24536E36447D259",
    "jupyter": {
     "source_hidden": false
    },
    "scrolled": false,
    "slideshow": {
     "slide_type": "slide"
    },
    "tags": []
   },
   "outputs": [],
   "source": [
    "# 从数据初探可以发现，'未来两年可能违约'标签类别分布不均，需对样本进行重取样\n",
    "def resample(df):\n",
    "    '''\n",
    "    使样本'未来两年可能违约'标签的0，1项可以各占一半，以提高预测效果。sample()可以考虑添加random_state以便生成相同样本集\n",
    "    df：数据源\n",
    "    '''\n",
    "    num = df['未来两年可能违约'].value_counts()[1]\n",
    "    df_t = df[df.未来两年可能违约==1]\n",
    "    df_f = df[df.未来两年可能违约==0].sample(frac=1)[0:num]\n",
    "    df_balanced = pd.concat([df_t,df_f]).sample(frac=1).reset_index(drop=True)\n",
    "#     print(df_balanced.未来两年可能违约.value_counts())\n",
    "    return df_balanced"
   ]
  },
  {
   "cell_type": "markdown",
   "metadata": {
    "id": "BF69277F249740E987F369E65A1B770F",
    "jupyter": {
     "source_hidden": false
    },
    "mdEditEnable": false,
    "slideshow": {
     "slide_type": "slide"
    },
    "tags": []
   },
   "source": [
    "## 4.数据预处理&模型训练\n",
    "* 数据预处理 ==> 数据划分 ==> 模型训练及参数搜索"
   ]
  },
  {
   "cell_type": "code",
   "execution_count": null,
   "metadata": {
    "id": "70318FD0E9884180A6A7462913D182D2",
    "jupyter": {},
    "slideshow": {
     "slide_type": "slide"
    },
    "tags": []
   },
   "outputs": [],
   "source": [
    "# 设 【 df1 】 为违约概率模型建模所用数据集\n",
    "df1 = df0.copy()\n",
    "\n",
    "# 异常处理\n",
    "error_processing(df1)\n",
    "# 去除共线性\n",
    "collineation_processing(df1,'逾期90天+的笔数', '逾期60-89天的笔数', '逾期30-59天的笔数','逾期60-89天/30-59天')\n",
    "# 缺失值处理\n",
    "missing_values_processing(df1,func1=1,func2=1)\n",
    "# 数据重采样\n",
    "df_balanced = resample(df1)\n",
    "\n",
    "# 最后将数据集划分成训练集和验证集，两者划分比例都为8：2\n",
    "# 可考虑删去的列：'逾期30-59天的笔数','逾期60-89天的笔数','逾期90天+的笔数','逾期60-89天/30-59天','未来两年可能违约'\n",
    "X = df_balanced.drop(['未来两年可能违约','逾期60-89天/30-59天'],axis=1) \n",
    "y = df_balanced['未来两年可能违约']\n",
    "xtrain,xtest,ytrain,ytest = train_test_split(X,y,test_size=0.2)    # random_state=42\n",
    "\n",
    "# 分层k折交叉拆分器 - 用于网格搜索\n",
    "cv = StratifiedKFold(n_splits=3,shuffle=True)"
   ]
  },
  {
   "cell_type": "code",
   "execution_count": 13,
   "metadata": {
    "id": "286F795825624BE28A75F438D315B8AC",
    "jupyter": {
     "source_hidden": false
    },
    "scrolled": false,
    "slideshow": {
     "slide_type": "slide"
    },
    "tags": []
   },
   "outputs": [],
   "source": [
    "# 分类模型性能查看函数\n",
    "def perfomance_clf(model,X,y,name=None):\n",
    "    y_predict = model.predict(X)\n",
    "    if name:\n",
    "        print(name,':')\n",
    "    print(f'accuracy score is: {accuracy_score(y,y_predict)}')\n",
    "    print(f'precision score is: {precision_score(y,y_predict)}')\n",
    "    print(f'recall score is: {recall_score(y,y_predict)}')\n",
    "    print(f'auc: {roc_auc_score(y,y_predict)}')\n",
    "    print('- - - - - - ')"
   ]
  },
  {
   "cell_type": "markdown",
   "metadata": {
    "id": "B06558362CD7491184A28BF76E56C559",
    "jupyter": {
     "source_hidden": false
    },
    "mdEditEnable": false,
    "slideshow": {
     "slide_type": "slide"
    },
    "tags": []
   },
   "source": [
    "### 4.1 逻辑回归模型"
   ]
  },
  {
   "cell_type": "code",
   "execution_count": 20,
   "metadata": {
    "id": "DC6E4250EB374FC59F1A6B223A0E4E97",
    "jupyter": {
     "source_hidden": false
    },
    "scrolled": false,
    "slideshow": {
     "slide_type": "slide"
    },
    "tags": []
   },
   "outputs": [
    {
     "name": "stdout",
     "output_type": "stream",
     "text": [
      "Fitting 3 folds for each of 14 candidates, totalling 42 fits\n"
     ]
    },
    {
     "name": "stderr",
     "output_type": "stream",
     "text": [
      "[Parallel(n_jobs=-1)]: Using backend LokyBackend with 2 concurrent workers.\n"
     ]
    },
    {
     "name": "stdout",
     "output_type": "stream",
     "text": [
      "{'C': 100.0, 'penalty': 'l1'}\n",
      "train :\n",
      "accuracy score is: 0.7783180599713235\n",
      "precision score is: 0.8100737442604703\n",
      "recall score is: 0.7265693248471234\n",
      "auc: 0.7782697147404526\n",
      "- - - - - - \n",
      "test :\n",
      "accuracy score is: 0.7738718524058839\n",
      "precision score is: 0.8120767494356659\n",
      "recall score is: 0.7148534525583706\n",
      "auc: 0.7740933929458519\n",
      "- - - - - - \n"
     ]
    },
    {
     "name": "stderr",
     "output_type": "stream",
     "text": [
      "[Parallel(n_jobs=-1)]: Done  42 out of  42 | elapsed:    3.0s finished\n"
     ]
    }
   ],
   "source": [
    "# 参数设定\n",
    "log_params = {\"penalty\":['l1','l2'],\n",
    "                 'C':[0.001*10**i for i in range(0,7)]}\n",
    "# 参数搜索\n",
    "log_gridsearch = GridSearchCV(LogisticRegression(solver='liblinear'),log_params,cv=cv,\n",
    "                               n_jobs=-1,scoring='roc_auc',verbose=2,refit=True)\n",
    "# 工作流管道\n",
    "pipe_log = Pipeline([\n",
    "        ('sc',StandardScaler()),    # 标准化Z-score\n",
    "        ('pow_trans',PowerTransformer()),    # 纠偏\n",
    "        ('log_grid',log_gridsearch)\n",
    "        ])\n",
    "# 搜索参数并训练模型\n",
    "pipe_log.fit(xtrain,ytrain)\n",
    "# 最佳参数组合\n",
    "print(pipe_log.named_steps['log_grid'].best_params_)\n",
    "# 训练集性能指标\n",
    "perfomance_clf(pipe_log,xtrain,ytrain,name='train')\n",
    "# 测试集性能指标\n",
    "perfomance_clf(pipe_log,xtest,ytest,name='test')"
   ]
  },
  {
   "cell_type": "code",
   "execution_count": 22,
   "metadata": {
    "id": "E5476C50D92F4F55882B341984F40835",
    "jupyter": {
     "source_hidden": false
    },
    "scrolled": false,
    "slideshow": {
     "slide_type": "slide"
    },
    "tags": []
   },
   "outputs": [
    {
     "name": "stdout",
     "output_type": "stream",
     "text": [
      "Fitting 3 folds for each of 14 candidates, totalling 42 fits\n"
     ]
    },
    {
     "name": "stderr",
     "output_type": "stream",
     "text": [
      "[Parallel(n_jobs=-1)]: Using backend LokyBackend with 2 concurrent workers.\n",
      "[Parallel(n_jobs=-1)]: Done  42 out of  42 | elapsed:    0.5s finished\n"
     ]
    },
    {
     "name": "stdout",
     "output_type": "stream",
     "text": [
      "Fitting 3 folds for each of 14 candidates, totalling 42 fits\n"
     ]
    },
    {
     "name": "stderr",
     "output_type": "stream",
     "text": [
      "[Parallel(n_jobs=-1)]: Using backend LokyBackend with 2 concurrent workers.\n",
      "[Parallel(n_jobs=-1)]: Done  42 out of  42 | elapsed:    0.6s finished\n"
     ]
    },
    {
     "name": "stdout",
     "output_type": "stream",
     "text": [
      "Fitting 3 folds for each of 14 candidates, totalling 42 fits\n"
     ]
    },
    {
     "name": "stderr",
     "output_type": "stream",
     "text": [
      "[Parallel(n_jobs=-1)]: Using backend LokyBackend with 2 concurrent workers.\n",
      "[Parallel(n_jobs=-1)]: Done  42 out of  42 | elapsed:    0.6s finished\n"
     ]
    },
    {
     "data": {
      "text/plain": [
       "0.8570960548600303"
      ]
     },
     "execution_count": 22,
     "metadata": {},
     "output_type": "execute_result"
    }
   ],
   "source": [
    "# 交叉验证查看平均分数\n",
    "cross_val_score(pipe_log,xtrain,ytrain,cv=3,scoring='roc_auc').mean()"
   ]
  },
  {
   "cell_type": "markdown",
   "metadata": {
    "id": "B9419CC443D04E3186051A5D9506E1AC",
    "jupyter": {
     "source_hidden": false
    },
    "mdEditEnable": false,
    "slideshow": {
     "slide_type": "slide"
    },
    "tags": []
   },
   "source": [
    "### 4.2 随机森林分类模型"
   ]
  },
  {
   "cell_type": "code",
   "execution_count": 23,
   "metadata": {
    "id": "11A1E91E7CCE4B7D8AB0352080D8F879",
    "jupyter": {
     "source_hidden": false
    },
    "scrolled": false,
    "slideshow": {
     "slide_type": "slide"
    },
    "tags": []
   },
   "outputs": [
    {
     "name": "stdout",
     "output_type": "stream",
     "text": [
      "Fitting 3 folds for each of 2 candidates, totalling 6 fits\n"
     ]
    },
    {
     "name": "stderr",
     "output_type": "stream",
     "text": [
      "[Parallel(n_jobs=-1)]: Using backend LokyBackend with 2 concurrent workers.\n",
      "[Parallel(n_jobs=-1)]: Done   1 tasks      | elapsed:   18.3s\n",
      "[Parallel(n_jobs=-1)]: Done   4 out of   6 | elapsed:   41.9s remaining:   20.9s\n",
      "[Parallel(n_jobs=-1)]: Done   6 out of   6 | elapsed:  1.1min remaining:    0.0s\n",
      "[Parallel(n_jobs=-1)]: Done   6 out of   6 | elapsed:  1.1min finished\n"
     ]
    },
    {
     "name": "stdout",
     "output_type": "stream",
     "text": [
      "{'max_depth': 9, 'max_features': 'auto'}\n",
      "train :\n",
      "accuracy score is: 0.8172807181597157\n",
      "precision score is: 0.8249360613810741\n",
      "recall score is: 0.8050667665044303\n",
      "auc: 0.8172693075172873\n",
      "- - - - - - \n",
      "test :\n",
      "accuracy score is: 0.781351283969085\n",
      "precision score is: 0.7883248730964467\n",
      "recall score is: 0.771485345255837\n",
      "auc: 0.7813883182735641\n",
      "- - - - - - \n"
     ]
    }
   ],
   "source": [
    "# 随机森林分类模型\n",
    "rf_clf = RandomForestClassifier(criterion='gini',\n",
    "                               n_jobs=-1,\n",
    "                               n_estimators=1000)    # random_state\n",
    "# 参数设定\n",
    "rf_grid_params = {'max_features':['auto'],    # ['auto',0.5,0.6,0.9] 未知最优参数时可以自己设定组合\n",
    "                    'max_depth':[6,9]}    # [3,6,9]\n",
    "# 参数搜索\n",
    "rf_gridsearch = GridSearchCV(rf_clf,rf_grid_params,cv=cv,\n",
    "                               n_jobs=-1,scoring='roc_auc',verbose=10,refit=True)\n",
    "# 工作流管道\n",
    "pipe_rf = Pipeline([\n",
    "        ('sc',StandardScaler()),\n",
    "        ('pow_trans',PowerTransformer()),\n",
    "        ('rf_grid',rf_gridsearch)\n",
    "        ])\n",
    "# 搜索参数并训练模型\n",
    "pipe_rf.fit(xtrain,ytrain)\n",
    "# 最佳参数组合\n",
    "print(pipe_rf.named_steps['rf_grid'].best_params_)\n",
    "# 训练集性能指标\n",
    "perfomance_clf(pipe_rf,xtrain,ytrain,name='train')\n",
    "# 测试集性能指标\n",
    "perfomance_clf(pipe_rf,xtest,ytest,name='test')"
   ]
  },
  {
   "cell_type": "code",
   "execution_count": 24,
   "metadata": {
    "id": "5030B8664B514A23A5AEAD4C683F1D0A",
    "jupyter": {
     "source_hidden": false
    },
    "scrolled": false,
    "slideshow": {
     "slide_type": "slide"
    },
    "tags": []
   },
   "outputs": [
    {
     "name": "stdout",
     "output_type": "stream",
     "text": [
      "Fitting 3 folds for each of 2 candidates, totalling 6 fits\n"
     ]
    },
    {
     "name": "stderr",
     "output_type": "stream",
     "text": [
      "[Parallel(n_jobs=-1)]: Using backend LokyBackend with 2 concurrent workers.\n",
      "[Parallel(n_jobs=-1)]: Done   1 tasks      | elapsed:   12.6s\n",
      "[Parallel(n_jobs=-1)]: Done   4 out of   6 | elapsed:   28.6s remaining:   14.3s\n",
      "[Parallel(n_jobs=-1)]: Done   6 out of   6 | elapsed:   43.6s remaining:    0.0s\n",
      "[Parallel(n_jobs=-1)]: Done   6 out of   6 | elapsed:   43.6s finished\n"
     ]
    },
    {
     "name": "stdout",
     "output_type": "stream",
     "text": [
      "Fitting 3 folds for each of 2 candidates, totalling 6 fits\n"
     ]
    },
    {
     "name": "stderr",
     "output_type": "stream",
     "text": [
      "[Parallel(n_jobs=-1)]: Using backend LokyBackend with 2 concurrent workers.\n",
      "[Parallel(n_jobs=-1)]: Done   1 tasks      | elapsed:   12.5s\n",
      "[Parallel(n_jobs=-1)]: Done   4 out of   6 | elapsed:   28.6s remaining:   14.3s\n",
      "[Parallel(n_jobs=-1)]: Done   6 out of   6 | elapsed:   43.6s remaining:    0.0s\n",
      "[Parallel(n_jobs=-1)]: Done   6 out of   6 | elapsed:   43.6s finished\n"
     ]
    },
    {
     "name": "stdout",
     "output_type": "stream",
     "text": [
      "Fitting 3 folds for each of 2 candidates, totalling 6 fits\n"
     ]
    },
    {
     "name": "stderr",
     "output_type": "stream",
     "text": [
      "[Parallel(n_jobs=-1)]: Using backend LokyBackend with 2 concurrent workers.\n",
      "[Parallel(n_jobs=-1)]: Done   1 tasks      | elapsed:   12.6s\n",
      "[Parallel(n_jobs=-1)]: Done   4 out of   6 | elapsed:   28.5s remaining:   14.2s\n",
      "[Parallel(n_jobs=-1)]: Done   6 out of   6 | elapsed:   43.5s remaining:    0.0s\n",
      "[Parallel(n_jobs=-1)]: Done   6 out of   6 | elapsed:   43.5s finished\n"
     ]
    },
    {
     "data": {
      "text/plain": [
       "0.8636721586763811"
      ]
     },
     "execution_count": 24,
     "metadata": {},
     "output_type": "execute_result"
    }
   ],
   "source": [
    "# 注意！！！交叉验证查看平均分数（由于管道会反复搜索参数，会较耗时）\n",
    "cross_val_score(pipe_rf,xtrain,ytrain,cv=3,scoring='roc_auc').mean()"
   ]
  },
  {
   "cell_type": "markdown",
   "metadata": {
    "id": "4A7D87F572C747A58E09BBDC966CAA73",
    "jupyter": {
     "source_hidden": false
    },
    "mdEditEnable": false,
    "slideshow": {
     "slide_type": "slide"
    },
    "tags": []
   },
   "source": [
    "### 4.3 xgboost模型"
   ]
  },
  {
   "cell_type": "code",
   "execution_count": 25,
   "metadata": {
    "id": "477EFF91C48D4EB68F25C1F892F21091",
    "jupyter": {
     "source_hidden": false
    },
    "scrolled": false,
    "slideshow": {
     "slide_type": "slide"
    },
    "tags": []
   },
   "outputs": [
    {
     "name": "stdout",
     "output_type": "stream",
     "text": [
      "Fitting 3 folds for each of 16 candidates, totalling 48 fits\n"
     ]
    },
    {
     "name": "stderr",
     "output_type": "stream",
     "text": [
      "[Parallel(n_jobs=-1)]: Using backend LokyBackend with 2 concurrent workers.\n",
      "[Parallel(n_jobs=-1)]: Done   1 tasks      | elapsed:   13.2s\n",
      "[Parallel(n_jobs=-1)]: Done   4 tasks      | elapsed:   27.6s\n",
      "[Parallel(n_jobs=-1)]: Done   9 tasks      | elapsed:  1.1min\n",
      "[Parallel(n_jobs=-1)]: Done  14 tasks      | elapsed:  1.6min\n",
      "[Parallel(n_jobs=-1)]: Done  21 tasks      | elapsed:  3.0min\n",
      "[Parallel(n_jobs=-1)]: Done  28 tasks      | elapsed:  3.8min\n",
      "[Parallel(n_jobs=-1)]: Done  37 tasks      | elapsed:  5.0min\n",
      "[Parallel(n_jobs=-1)]: Done  48 out of  48 | elapsed:  6.8min finished\n"
     ]
    },
    {
     "name": "stdout",
     "output_type": "stream",
     "text": [
      "{'colsample_bytree': 0.6, 'max_depth': 6, 'reg_alpha': 0.05, 'subsample': 0.6}\n",
      "train :\n",
      "accuracy score is: 0.8260083535939156\n",
      "precision score is: 0.834314980793854\n",
      "recall score is: 0.8131785847997005\n",
      "auc: 0.8259963676365218\n",
      "- - - - - - \n",
      "test :\n",
      "accuracy score is: 0.7840937422089255\n",
      "precision score is: 0.7939518195797027\n",
      "recall score is: 0.76949826130154\n",
      "auc: 0.7841485300501694\n",
      "- - - - - - \n"
     ]
    }
   ],
   "source": [
    "# xgboost模型\n",
    "xgb_clf = xgb.XGBClassifier(objective='binary:logistic',\n",
    "                            n_job=-1,\n",
    "                            booster='gbtree',\n",
    "                            n_estimators=1000,\n",
    "                            learning_rate=0.01)\n",
    "# 参数设定\n",
    "xgb_params = {'max_depth':[6,9],    # 注意参数设置，数量多了会更加耗时\n",
    "             'subsample':[0.6,0.9],\n",
    "             'colsample_bytree':[0.5,0.6],\n",
    "             'reg_alpha':[0.05,0.1]}\n",
    "# 参数搜索\n",
    "xgb_gridsearch = GridSearchCV(xgb_clf,xgb_params,cv=cv,n_jobs=-1,\n",
    "                                 scoring='roc_auc',verbose=10,refit=True)\n",
    "# 工作流管道\n",
    "pipe_xgb = Pipeline([\n",
    "    ('sc',StandardScaler()),\n",
    "    ('pow_trans',PowerTransformer()),\n",
    "    ('xgb_grid',xgb_gridsearch)\n",
    "])\n",
    "# 搜索参数并训练模型\n",
    "pipe_xgb.fit(xtrain,ytrain)\n",
    "# 最佳参数组合\n",
    "print(pipe_xgb.named_steps['xgb_grid'].best_params_)\n",
    "# 训练集性能指标\n",
    "perfomance_clf(pipe_xgb,xtrain,ytrain,name='train')\n",
    "# 测试集性能指标\n",
    "perfomance_clf(pipe_xgb,xtest,ytest,name='test')"
   ]
  },
  {
   "cell_type": "code",
   "execution_count": 26,
   "metadata": {
    "id": "457430E55D864FA78ABE34E93F5DC615",
    "jupyter": {
     "source_hidden": false
    },
    "scrolled": false,
    "slideshow": {
     "slide_type": "slide"
    },
    "tags": []
   },
   "outputs": [
    {
     "name": "stdout",
     "output_type": "stream",
     "text": [
      "Fitting 3 folds for each of 16 candidates, totalling 48 fits\n"
     ]
    },
    {
     "name": "stderr",
     "output_type": "stream",
     "text": [
      "[Parallel(n_jobs=-1)]: Using backend LokyBackend with 2 concurrent workers.\n",
      "[Parallel(n_jobs=-1)]: Done   1 tasks      | elapsed:    8.8s\n",
      "[Parallel(n_jobs=-1)]: Done   4 tasks      | elapsed:   17.9s\n",
      "[Parallel(n_jobs=-1)]: Done   9 tasks      | elapsed:   43.5s\n",
      "[Parallel(n_jobs=-1)]: Done  14 tasks      | elapsed:  1.1min\n",
      "[Parallel(n_jobs=-1)]: Done  21 tasks      | elapsed:  2.0min\n",
      "[Parallel(n_jobs=-1)]: Done  28 tasks      | elapsed:  2.5min\n",
      "[Parallel(n_jobs=-1)]: Done  37 tasks      | elapsed:  3.3min\n",
      "[Parallel(n_jobs=-1)]: Done  48 out of  48 | elapsed:  4.5min finished\n"
     ]
    },
    {
     "name": "stdout",
     "output_type": "stream",
     "text": [
      "Fitting 3 folds for each of 16 candidates, totalling 48 fits\n"
     ]
    },
    {
     "name": "stderr",
     "output_type": "stream",
     "text": [
      "[Parallel(n_jobs=-1)]: Using backend LokyBackend with 2 concurrent workers.\n",
      "[Parallel(n_jobs=-1)]: Done   1 tasks      | elapsed:    9.1s\n",
      "[Parallel(n_jobs=-1)]: Done   4 tasks      | elapsed:   18.1s\n",
      "[Parallel(n_jobs=-1)]: Done   9 tasks      | elapsed:   43.4s\n",
      "[Parallel(n_jobs=-1)]: Done  14 tasks      | elapsed:  1.1min\n",
      "[Parallel(n_jobs=-1)]: Done  21 tasks      | elapsed:  2.0min\n",
      "[Parallel(n_jobs=-1)]: Done  28 tasks      | elapsed:  2.5min\n",
      "[Parallel(n_jobs=-1)]: Done  37 tasks      | elapsed:  3.4min\n",
      "[Parallel(n_jobs=-1)]: Done  48 out of  48 | elapsed:  4.5min finished\n"
     ]
    },
    {
     "name": "stdout",
     "output_type": "stream",
     "text": [
      "Fitting 3 folds for each of 16 candidates, totalling 48 fits\n"
     ]
    },
    {
     "name": "stderr",
     "output_type": "stream",
     "text": [
      "[Parallel(n_jobs=-1)]: Using backend LokyBackend with 2 concurrent workers.\n",
      "[Parallel(n_jobs=-1)]: Done   1 tasks      | elapsed:    9.0s\n",
      "[Parallel(n_jobs=-1)]: Done   4 tasks      | elapsed:   17.9s\n",
      "[Parallel(n_jobs=-1)]: Done   9 tasks      | elapsed:   43.2s\n",
      "[Parallel(n_jobs=-1)]: Done  14 tasks      | elapsed:  1.1min\n",
      "[Parallel(n_jobs=-1)]: Done  21 tasks      | elapsed:  2.0min\n",
      "[Parallel(n_jobs=-1)]: Done  28 tasks      | elapsed:  2.5min\n",
      "[Parallel(n_jobs=-1)]: Done  37 tasks      | elapsed:  3.3min\n",
      "[Parallel(n_jobs=-1)]: Done  48 out of  48 | elapsed:  4.5min finished\n"
     ]
    },
    {
     "data": {
      "text/plain": [
       "0.8655361886709881"
      ]
     },
     "execution_count": 26,
     "metadata": {},
     "output_type": "execute_result"
    }
   ],
   "source": [
    "# 注意！！！交叉验证查看平均分数（由于管道会反复搜索参数，会很耗时）\n",
    "cross_val_score(pipe_xgb,xtrain,ytrain,cv=3,scoring='roc_auc').mean()"
   ]
  },
  {
   "cell_type": "code",
   "execution_count": 27,
   "metadata": {
    "id": "B8C083037D3843598BB950B442C82180",
    "jupyter": {
     "source_hidden": false
    },
    "scrolled": false,
    "slideshow": {
     "slide_type": "slide"
    },
    "tags": []
   },
   "outputs": [
    {
     "data": {
      "text/plain": [
       "Index(['可用信贷额度比例', '年龄', '逾期30-59天的笔数', '负债率', '月收入', '信贷数量', '逾期90天+的笔数',\n",
       "       '固定资产贷款数', '逾期60-89天的笔数', '家属数量'],\n",
       "      dtype='object')"
      ]
     },
     "execution_count": 27,
     "metadata": {},
     "output_type": "execute_result"
    },
    {
     "data": {
      "text/html": [
       "<img src=\"https://cdn.kesci.com/rt_upload/B8C083037D3843598BB950B442C82180/pzqp0ney33.png\">"
      ],
      "text/plain": [
       "<Figure size 720x360 with 1 Axes>"
      ]
     },
     "metadata": {
      "needs_background": "light"
     },
     "output_type": "display_data"
    }
   ],
   "source": [
    "# 查看字段相对xgboost模型的重要程度\n",
    "# 一般显示 ['可用信贷额度比例', '年龄', '负债率', '月收入', '信贷数量'] 这些字段比较重要\n",
    "plt.figure(figsize=(10,5))\n",
    "ax = plt.subplot(1,1,1)\n",
    "xgb.plot_importance(pipe_xgb.named_steps['xgb_grid'].best_estimator_,\n",
    "                       max_num_features=40,height=0.5,grid=False,ax=ax)\n",
    "xtrain.columns"
   ]
  },
  {
   "cell_type": "markdown",
   "metadata": {
    "id": "56CCEABF6E1E4DBF83BD590D20868C3B",
    "jupyter": {
     "source_hidden": false
    },
    "mdEditEnable": false,
    "slideshow": {
     "slide_type": "slide"
    },
    "tags": []
   },
   "source": [
    "## 5.预测并生成结果\n",
    "* 预测集读取与生成结果文件"
   ]
  },
  {
   "cell_type": "code",
   "execution_count": 28,
   "metadata": {
    "id": "EC55878E66A84FB68AC38D1C5DDF0F8D",
    "jupyter": {
     "source_hidden": false
    },
    "scrolled": false,
    "slideshow": {
     "slide_type": "slide"
    },
    "tags": []
   },
   "outputs": [],
   "source": [
    "# 预测集数据读取与处理\n",
    "# dftest = pd.read_csv('/Users/ranmo/Desktop/机器学习项目集/信用违约预测模型/data/test.csv').drop('Unnamed: 0',axis=1)\n",
    "# dftest.rename(columns = {'SeriousDlqin2yrs':'未来两年可能违约', 'RevolvingUtilizationOfUnsecuredLines':'可用信贷额度比例', 'age':'年龄',\n",
    "#       'NumberOfTime30-59DaysPastDueNotWorse':'逾期30-59天的笔数', 'DebtRatio':'负债率', 'MonthlyIncome':'月收入',\n",
    "#       'NumberOfOpenCreditLinesAndLoans':'信贷数量', 'NumberOfTimes90DaysLate':'逾期90天+的笔数',\n",
    "#       'NumberRealEstateLoansOrLines':'固定资产贷款数', 'NumberOfTime60-89DaysPastDueNotWorse':'逾期60-89天的笔数',\n",
    "#       'NumberOfDependents':'家属数量'},inplace=True)\n",
    "# dftest.loc[dftest.家属数量.isna(),'家属数量'] = df1.家属数量.mode()[0]\n",
    "# dftest.loc[dftest.月收入.isna(),'月收入'] = df1.月收入.mode()[0]"
   ]
  },
  {
   "cell_type": "code",
   "execution_count": 29,
   "metadata": {
    "id": "DCA8AAF1D7FC4F69BC7C281C4AC8C214",
    "jupyter": {
     "source_hidden": false
    },
    "scrolled": false,
    "slideshow": {
     "slide_type": "slide"
    },
    "tags": []
   },
   "outputs": [],
   "source": [
    "# 以xgboost模型预测，生成csv结果文件\n",
    "# result = pipe_xgb.predict_proba(dftest.drop('未来两年可能违约',axis=1))\n",
    "# result_ = [[n+1,i] for n,i in enumerate(result[:,1])]\n",
    "# df_result = pd.DataFrame(result_,columns=['Id','Probability'])\n",
    "# df_result.to_csv('sampleEntry.csv',index=False)"
   ]
  },
  {
   "cell_type": "markdown",
   "metadata": {
    "id": "57C998E259544A5A94AE00EA798426C3",
    "jupyter": {
     "source_hidden": false
    },
    "mdEditEnable": false,
    "slideshow": {
     "slide_type": "slide"
    },
    "tags": []
   },
   "source": [
    "## 6.补充"
   ]
  },
  {
   "cell_type": "markdown",
   "metadata": {
    "id": "E3228AEC71CB4CBB9CB574B956314994",
    "jupyter": {
     "source_hidden": false
    },
    "mdEditEnable": false,
    "slideshow": {
     "slide_type": "slide"
    },
    "tags": []
   },
   "source": [
    "Public Score - 0.85796"
   ]
  },
  {
   "cell_type": "code",
   "execution_count": 31,
   "metadata": {
    "id": "72EB02EAB6E64E089C292377C48193AA",
    "jupyter": {
     "source_hidden": false
    },
    "scrolled": false,
    "slideshow": {
     "slide_type": "slide"
    },
    "tags": []
   },
   "outputs": [],
   "source": [
    "# 模型保存方法\n",
    "# import pickle\n",
    "# with open('pipe_log.pickle','wb') as f:\n",
    "#     pickle.dump(pipe_log,f)\n",
    "# with open('pipe_log.pickle','rb') as f:\n",
    "#     clf = pickle.load(f)"
   ]
  }
 ],
 "metadata": {
  "kernelspec": {
   "display_name": "Python 3",
   "language": "python",
   "name": "python3"
  },
  "language_info": {
   "codemirror_mode": {
    "name": "ipython",
    "version": 3
   },
   "file_extension": ".py",
   "mimetype": "text/x-python",
   "name": "python",
   "nbconvert_exporter": "python",
   "pygments_lexer": "ipython3",
   "version": "3.7.3"
  }
 },
 "nbformat": 4,
 "nbformat_minor": 2
}
