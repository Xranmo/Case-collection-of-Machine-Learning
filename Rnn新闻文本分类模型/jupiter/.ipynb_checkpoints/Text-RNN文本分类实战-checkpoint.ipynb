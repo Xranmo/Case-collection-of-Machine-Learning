{
 "cells": [
  {
   "cell_type": "code",
   "execution_count": 1,
   "metadata": {
    "id": "D613F808BED142758A33BDFC79B3823F",
    "jupyter": {},
    "scrolled": false,
    "slideshow": {
     "slide_type": "slide"
    },
    "tags": []
   },
   "outputs": [],
   "source": [
    "import warnings\n",
    "warnings.filterwarnings('ignore')"
   ]
  },
  {
   "cell_type": "code",
   "execution_count": 2,
   "metadata": {
    "id": "F38BA4E5A78940EB8A399F31881A1488",
    "jupyter": {},
    "scrolled": false,
    "slideshow": {
     "slide_type": "slide"
    },
    "tags": []
   },
   "outputs": [],
   "source": [
    "import time\n",
    "startTime = time.time()   #把程序开始时间赋值给变量startTime；\n",
    "def printUsedTime():   #定义printUsedTime函数，作用是打印程序运行时间\n",
    "    used_time = time.time() - startTime\n",
    "    print('used time: %.2f seconds' %used_time)"
   ]
  },
  {
   "cell_type": "code",
   "execution_count": 4,
   "metadata": {
    "id": "FF50B2F5B36545F88613199A90883168",
    "jupyter": {},
    "scrolled": false,
    "slideshow": {
     "slide_type": "slide"
    },
    "tags": []
   },
   "outputs": [
    {
     "ename": "FileNotFoundError",
     "evalue": "[Errno 2] No such file or directory: '/Users/ranmo/Desktop/机器学习项目集/Text-Rnn新闻文本分类/jupiter/cnews.train.txt'",
     "output_type": "error",
     "traceback": [
      "\u001b[0;31m---------------------------------------------------------------------------\u001b[0m",
      "\u001b[0;31mFileNotFoundError\u001b[0m                         Traceback (most recent call last)",
      "\u001b[0;32m<ipython-input-4-b0b50a2e0371>\u001b[0m in \u001b[0;36m<module>\u001b[0;34m\u001b[0m\n\u001b[0;32m----> 1\u001b[0;31m \u001b[0;32mwith\u001b[0m \u001b[0mopen\u001b[0m\u001b[0;34m(\u001b[0m\u001b[0;34mr'/Users/ranmo/Desktop/机器学习项目集/Text-Rnn新闻文本分类/jupiter/cnews.train.txt'\u001b[0m\u001b[0;34m,\u001b[0m \u001b[0mencoding\u001b[0m\u001b[0;34m=\u001b[0m\u001b[0;34m'utf8'\u001b[0m\u001b[0;34m)\u001b[0m \u001b[0;32mas\u001b[0m \u001b[0mfile\u001b[0m\u001b[0;34m:\u001b[0m  \u001b[0;31m#调用open方法打开文本文件\u001b[0m\u001b[0;34m\u001b[0m\u001b[0;34m\u001b[0m\u001b[0m\n\u001b[0m\u001b[1;32m      2\u001b[0m     \u001b[0mline_list\u001b[0m \u001b[0;34m=\u001b[0m \u001b[0;34m[\u001b[0m\u001b[0mk\u001b[0m\u001b[0;34m.\u001b[0m\u001b[0mstrip\u001b[0m\u001b[0;34m(\u001b[0m\u001b[0;34m)\u001b[0m \u001b[0;32mfor\u001b[0m \u001b[0mk\u001b[0m \u001b[0;32min\u001b[0m \u001b[0mfile\u001b[0m\u001b[0;34m.\u001b[0m\u001b[0mreadlines\u001b[0m\u001b[0;34m(\u001b[0m\u001b[0;34m)\u001b[0m\u001b[0;34m]\u001b[0m  \u001b[0;31m#使用列表推导式得到文本文件中的行内容列表赋值给变量label_list\u001b[0m\u001b[0;34m\u001b[0m\u001b[0;34m\u001b[0m\u001b[0m\n\u001b[1;32m      3\u001b[0m     \u001b[0mtrain_label_list\u001b[0m \u001b[0;34m=\u001b[0m \u001b[0;34m[\u001b[0m\u001b[0mk\u001b[0m\u001b[0;34m.\u001b[0m\u001b[0msplit\u001b[0m\u001b[0;34m(\u001b[0m\u001b[0;34m)\u001b[0m\u001b[0;34m[\u001b[0m\u001b[0;36m0\u001b[0m\u001b[0;34m]\u001b[0m \u001b[0;32mfor\u001b[0m \u001b[0mk\u001b[0m \u001b[0;32min\u001b[0m \u001b[0mline_list\u001b[0m\u001b[0;34m]\u001b[0m  \u001b[0;31m#得到训练集的标签列表赋值给变量train_label_list\u001b[0m\u001b[0;34m\u001b[0m\u001b[0;34m\u001b[0m\u001b[0m\n\u001b[1;32m      4\u001b[0m     \u001b[0mtrain_content_list\u001b[0m \u001b[0;34m=\u001b[0m \u001b[0;34m[\u001b[0m\u001b[0mk\u001b[0m\u001b[0;34m.\u001b[0m\u001b[0msplit\u001b[0m\u001b[0;34m(\u001b[0m\u001b[0mmaxsplit\u001b[0m\u001b[0;34m=\u001b[0m\u001b[0;36m1\u001b[0m\u001b[0;34m)\u001b[0m\u001b[0;34m[\u001b[0m\u001b[0;36m1\u001b[0m\u001b[0;34m]\u001b[0m \u001b[0;32mfor\u001b[0m \u001b[0mk\u001b[0m \u001b[0;32min\u001b[0m \u001b[0mline_list\u001b[0m\u001b[0;34m]\u001b[0m  \u001b[0;31m#得到训练集的内容列表赋值给变量train_content_list\u001b[0m\u001b[0;34m\u001b[0m\u001b[0;34m\u001b[0m\u001b[0m\n\u001b[1;32m      5\u001b[0m \u001b[0;32mwith\u001b[0m \u001b[0mopen\u001b[0m\u001b[0;34m(\u001b[0m\u001b[0;34mr'/Users/ranmo/Desktop/机器学习项目集/Text-Rnn新闻文本分类/jupiter/cnews.vocab.txt'\u001b[0m\u001b[0;34m,\u001b[0m \u001b[0mencoding\u001b[0m\u001b[0;34m=\u001b[0m\u001b[0;34m'utf8'\u001b[0m\u001b[0;34m)\u001b[0m \u001b[0;32mas\u001b[0m \u001b[0mfile\u001b[0m\u001b[0;34m:\u001b[0m  \u001b[0;31m#得到词汇表文件cnews.vocab.txt中的词汇列表赋值给变量vocabulary_list\u001b[0m\u001b[0;34m\u001b[0m\u001b[0;34m\u001b[0m\u001b[0m\n",
      "\u001b[0;31mFileNotFoundError\u001b[0m: [Errno 2] No such file or directory: '/Users/ranmo/Desktop/机器学习项目集/Text-Rnn新闻文本分类/jupiter/cnews.train.txt'"
     ]
    }
   ],
   "source": [
    "with open(r'/Users/ranmo/Desktop/机器学习项目集/Text-Rnn新闻文本分类/data/cnews.train.txt', encoding='utf8') as file:  #调用open方法打开文本文件\n",
    "    line_list = [k.strip() for k in file.readlines()]  #使用列表推导式得到文本文件中的行内容列表赋值给变量label_list\n",
    "    train_label_list = [k.split()[0] for k in line_list]  #得到训练集的标签列表赋值给变量train_label_list\n",
    "    train_content_list = [k.split(maxsplit=1)[1] for k in line_list]  #得到训练集的内容列表赋值给变量train_content_list\n",
    "with open(r'/Users/ranmo/Desktop/机器学习项目集/Text-Rnn新闻文本分类/data/cnews.vocab.txt', encoding='utf8') as file:  #得到词汇表文件cnews.vocab.txt中的词汇列表赋值给变量vocabulary_list\n",
    "    vocabulary_list = [k.strip() for k in file.readlines()]\n",
    "print('0.load train data finished')  #表示加载训练集数据完成\n",
    "printUsedTime()  #打印程序运行至此步使用的时间"
   ]
  },
  {
   "cell_type": "code",
   "execution_count": 4,
   "metadata": {
    "id": "4F270BDF53F548208054EBB54BFF6F95",
    "jupyter": {},
    "scrolled": false,
    "slideshow": {
     "slide_type": "slide"
    },
    "tags": []
   },
   "outputs": [
    {
     "name": "stdout",
     "output_type": "stream",
     "text": [
      "[('<PAD>', 0), ('，', 1), ('的', 2), ('。', 3), ('一', 4)]\n"
     ]
    }
   ],
   "source": [
    "word2id_dict = dict([(b, a) for a, b in enumerate(vocabulary_list)])  #使用列表推导式得到词汇及其id对应的列表，并调用dict方法将列表强制转换为字典\n",
    "print(list(word2id_dict.items())[:5])   #打印变量word2id_dict的前5项\n",
    "content2idList = lambda content : [word2id_dict[word] for word in content if word in word2id_dict]   #使用列表推导式和匿名函数定义函数content2idlist，函数作用是将文章中的每个字转换为id\n",
    "train_idlist_list = [content2idList(content) for content in train_content_list]  #使用列表推导式得到的结果是列表的列表，总列表train_idlist_list中的元素是每篇文章中的字对应的id列表"
   ]
  },
  {
   "cell_type": "code",
   "execution_count": 5,
   "metadata": {
    "id": "BAAB3CCC3B0F4B3CBAF00DEBBCFFD98E",
    "jupyter": {},
    "scrolled": false,
    "slideshow": {
     "slide_type": "slide"
    },
    "tags": []
   },
   "outputs": [],
   "source": [
    "vocabolary_size = 5000  # 词汇表大小\n",
    "sequence_length = 150  # 序列长度\n",
    "embedding_size = 64  # 词向量大小\n",
    "num_hidden_units = 256  # LSTM细胞隐藏层大小\n",
    "num_fc1_units = 64 #第1个全连接下一层的大小\n",
    "dropout_keep_probability = 0.5  # dropout保留比例\n",
    "num_classes = 10  # 类别数量\n",
    "learning_rate = 1e-3  # 学习率\n",
    "batch_size = 64  # 每批训练大小\n",
    " "
   ]
  },
  {
   "cell_type": "code",
   "execution_count": 6,
   "metadata": {
    "id": "C669D68BD9B64AE3873F4C78786709D4",
    "jupyter": {},
    "scrolled": false,
    "slideshow": {
     "slide_type": "slide"
    },
    "tags": []
   },
   "outputs": [],
   "source": [
    "#对数据集再处理\n",
    "import tensorflow.contrib.keras as kr  #获得能够用于模型训练的特征矩阵和预测目标值\n",
    "train_X = kr.preprocessing.sequence.pad_sequences(train_idlist_list, sequence_length)  #将每个样本统一长度为seq_length，即600\n",
    "from sklearn.preprocessing import LabelEncoder\n",
    "labelEncoder = LabelEncoder()  #实例化LabelEncoder对象\n",
    "train_y = labelEncoder.fit_transform(train_label_list)  #调用LabelEncoder对象的fit_transform方法做标签编码\n",
    "train_Y = kr.utils.to_categorical(train_y, num_classes)  #调用keras.untils库的to_categorical方法将标签编码的结果再做Ont-Hot编码"
   ]
  },
  {
   "cell_type": "code",
   "execution_count": 7,
   "metadata": {
    "id": "FCE0DD85B7594A049B127966DDAC97DB",
    "jupyter": {},
    "scrolled": false,
    "slideshow": {
     "slide_type": "slide"
    },
    "tags": []
   },
   "outputs": [
    {
     "name": "stdout",
     "output_type": "stream",
     "text": [
      "1.data preparation finished\n",
      "used time: 14.49 seconds\n"
     ]
    }
   ],
   "source": [
    "import tensorflow as tf\n",
    "tf.reset_default_graph()  #重置tensorflow图，加强代码的健壮性\n",
    "X_holder = tf.placeholder(tf.int32, [None, sequence_length])  #将每次训练的特征矩阵X和预测目标值Y赋值给变量X_holder和Y_holder\n",
    "Y_holder = tf.placeholder(tf.float32, [None, num_classes])\n",
    "print('1.data preparation finished')   #数据准备完成\n",
    "printUsedTime()  #运行至此步使用的时间"
   ]
  },
  {
   "cell_type": "code",
   "execution_count": 8,
   "metadata": {
    "id": "FEC36BF944A042EE8F4AAB573B8DD3F5",
    "jupyter": {},
    "scrolled": false,
    "slideshow": {
     "slide_type": "slide"
    },
    "tags": []
   },
   "outputs": [
    {
     "name": "stdout",
     "output_type": "stream",
     "text": [
      "WARNING:tensorflow:From /opt/conda/lib/python3.7/site-packages/tensorflow/python/framework/op_def_library.py:263: colocate_with (from tensorflow.python.framework.ops) is deprecated and will be removed in a future version.\n",
      "Instructions for updating:\n",
      "Colocations handled automatically by placer.\n",
      "WARNING:tensorflow:From <ipython-input-8-afc843540522>:6: GRUCell.__init__ (from tensorflow.python.ops.rnn_cell_impl) is deprecated and will be removed in a future version.\n",
      "Instructions for updating:\n",
      "This class is equivalent as tf.keras.layers.GRUCell, and will be replaced by that in Tensorflow 2.0.\n",
      "WARNING:tensorflow:From <ipython-input-8-afc843540522>:9: dynamic_rnn (from tensorflow.python.ops.rnn) is deprecated and will be removed in a future version.\n",
      "Instructions for updating:\n",
      "Please use `keras.layers.RNN(cell)`, which is equivalent to this API\n",
      "WARNING:tensorflow:From <ipython-input-8-afc843540522>:12: dense (from tensorflow.python.layers.core) is deprecated and will be removed in a future version.\n",
      "Instructions for updating:\n",
      "Use keras.layers.dense instead.\n",
      "WARNING:tensorflow:From /opt/conda/lib/python3.7/site-packages/tensorflow/python/keras/layers/core.py:143: calling dropout (from tensorflow.python.ops.nn_ops) with keep_prob is deprecated and will be removed in a future version.\n",
      "Instructions for updating:\n",
      "Please use `rate` instead of `keep_prob`. Rate should be set to `rate = 1 - keep_prob`.\n",
      "WARNING:tensorflow:From /opt/conda/lib/python3.7/site-packages/tensorflow/python/ops/array_grad.py:425: to_int32 (from tensorflow.python.ops.math_ops) is deprecated and will be removed in a future version.\n",
      "Instructions for updating:\n",
      "Use tf.cast instead.\n",
      "2.build model finished\n",
      "used time: 15.09 seconds\n"
     ]
    }
   ],
   "source": [
    "#搭建神经网络\n",
    "embedding = tf.get_variable('embedding',\n",
    "                            [vocabolary_size, embedding_size])  #get_variable方法实例化可以更新的模型参数embedding，矩阵形状为vocabulary_size*embedding_size，即5000*64\n",
    "embedding_inputs = tf.nn.embedding_lookup(embedding,\n",
    "                                          X_holder)  #embedding_inputs的形状为batch_size*sequence_length*embedding_size，即50*100*64\n",
    "gru_cell = tf.contrib.rnn.GRUCell(num_hidden_units)  #调用tf.contrib.rnn.GRUCell方法实例化GRU细胞对象\n",
    "outputs, state = tf.nn.dynamic_rnn(gru_cell,\n",
    "                                   embedding_inputs,\n",
    "                                   dtype=tf.float32)  #动态计算循环神经网络中的结果，outputs是每个细胞的h的结果，state是最后一个细胞的h和c的结果，LSTM网络中h是短时记忆矩阵，c是长时记忆矩阵\n",
    "last_cell = outputs[:, -1, :]  #获取最后一个细胞的h，即最后一个细胞的短时记忆矩阵，等价于state.h\n",
    "full_connect1 = tf.layers.dense(last_cell,\n",
    "                                num_fc1_units)  #添加全连接层，tf.layers.dense方法结果赋值给变量full_connect1，形状为batch_size*num_fc1_units，即50*128\n",
    "full_connect1_dropout = tf.contrib.layers.dropout(full_connect1,\n",
    "                                                  dropout_keep_probability)\n",
    "full_connect1_activate = tf.nn.relu(full_connect1_dropout)\n",
    "full_connect2 = tf.layers.dense(full_connect1_activate,\n",
    "                                num_classes)\n",
    "predict_Y = tf.nn.softmax(full_connect2)\n",
    "cross_entropy = tf.nn.softmax_cross_entropy_with_logits_v2(labels=Y_holder,\n",
    "                                                          logits=full_connect2)\n",
    "loss = tf.reduce_mean(cross_entropy)  #使用交叉熵作为损失函数\n",
    "optimizer = tf.train.AdamOptimizer(learning_rate)\n",
    "train = optimizer.minimize(loss)\n",
    "isCorrect = tf.equal(tf.argmax(Y_holder,1), tf.argmax(predict_Y, 1))  #计算预测准确率\n",
    "accuracy = tf.reduce_mean(tf.cast(isCorrect, tf.float32))\n",
    "print('2.build model finished')  #表示搭建神经网络完成\n",
    "printUsedTime()"
   ]
  },
  {
   "cell_type": "code",
   "execution_count": 9,
   "metadata": {
    "id": "6567C488470B4F67960CB34E78753D21",
    "jupyter": {},
    "scrolled": false,
    "slideshow": {
     "slide_type": "slide"
    },
    "tags": []
   },
   "outputs": [
    {
     "name": "stdout",
     "output_type": "stream",
     "text": [
      "3.initialize variable finished\n",
      "used time: 15.18 seconds\n"
     ]
    }
   ],
   "source": [
    "#参数初始化\n",
    "init = tf.global_variables_initializer()\n",
    "session = tf.Session()\n",
    "session.run(init)\n",
    "print('3.initialize variable finished')\n",
    "printUsedTime()"
   ]
  },
  {
   "cell_type": "code",
   "execution_count": 10,
   "metadata": {
    "id": "317836F9C09D48E38ADAB516B046205A",
    "jupyter": {},
    "scrolled": false,
    "slideshow": {
     "slide_type": "slide"
    },
    "tags": []
   },
   "outputs": [
    {
     "name": "stdout",
     "output_type": "stream",
     "text": [
      "4.load test data finished\n",
      "used time: 17.26 seconds\n"
     ]
    }
   ],
   "source": [
    "#获取文本文件cnews.test.txt，即测试集中的数据\n",
    "with open('/Users/ranmo/Desktop/机器学习项目集/Text-Rnn新闻文本分类/jupiter/cnews.test.txt', encoding='utf8') as file:\n",
    "    line_list = [k.strip() for k in file.readlines()]\n",
    "    test_label_list = [k.split()[0] for k in line_list]\n",
    "    test_content_list = [k.split(maxsplit=1)[1] for k in line_list]\n",
    "test_idlist_list = [content2idList(content) for content in test_content_list]\n",
    "test_X = kr.preprocessing.sequence.pad_sequences(test_idlist_list, sequence_length)\n",
    "test_y = labelEncoder.transform(test_label_list)\n",
    "test_Y = kr.utils.to_categorical(test_y, num_classes)\n",
    "print('4.load test data finished')\n",
    "printUsedTime()"
   ]
  },
  {
   "cell_type": "code",
   "execution_count": 11,
   "metadata": {
    "id": "3D818292E6F9418C87538A8CBE034354",
    "jupyter": {},
    "scrolled": false,
    "slideshow": {
     "slide_type": "slide"
    },
    "tags": []
   },
   "outputs": [
    {
     "name": "stdout",
     "output_type": "stream",
     "text": [
      "5.begin model training\n",
      "step:100 loss:1.5000 accuracy:0.4650\n",
      "used time: 140.15 seconds\n",
      "step:200 loss:0.8718 accuracy:0.6800\n",
      "used time: 262.75 seconds\n",
      "step:300 loss:0.8678 accuracy:0.7450\n",
      "used time: 385.40 seconds\n",
      "step:400 loss:0.6749 accuracy:0.7850\n",
      "used time: 507.93 seconds\n",
      "step:500 loss:0.5466 accuracy:0.8100\n",
      "used time: 630.51 seconds\n",
      "step:600 loss:0.5638 accuracy:0.8400\n",
      "used time: 752.82 seconds\n",
      "step:700 loss:0.5298 accuracy:0.8550\n",
      "used time: 875.21 seconds\n",
      "step:800 loss:0.5159 accuracy:0.8550\n",
      "used time: 997.52 seconds\n",
      "step:900 loss:0.4100 accuracy:0.8850\n",
      "used time: 1119.42 seconds\n",
      "step:1000 loss:0.4163 accuracy:0.8800\n",
      "used time: 1241.30 seconds\n"
     ]
    }
   ],
   "source": [
    "print('5.begin model training')\n",
    "import random\n",
    "for i in range(1000):\n",
    "    selected_index = random.sample(list(range(len(train_y))), k=batch_size)  #从训练集中选取batch_size大小，即50个样本做批量梯度下降\n",
    "    batch_X = train_X[selected_index]\n",
    "    batch_Y = train_Y[selected_index]\n",
    "    session.run(train, {X_holder:batch_X, Y_holder:batch_Y})  #每运行1次，表示模型训练1次\n",
    "    step = i + 1  #记录当前步数，赋值给变量step\n",
    "    if step % 100 == 0:\n",
    "        selected_index = random.sample(list(range(len(test_y))), k=200)  #从测试集中随机选取200个样本\n",
    "        batch_X = test_X[selected_index]\n",
    "        batch_Y = test_Y[selected_index]\n",
    "        #计算损失值loss_value、准确率accuracy_value\n",
    "        loss_value, accuracy_value = session.run([loss, accuracy], {X_holder:batch_X, Y_holder:batch_Y})\n",
    "        print('step:%d loss:%.4f accuracy:%.4f' %(step, loss_value, accuracy_value))\n",
    "        printUsedTime()\n",
    " \n",
    "#以上已经完成循环神经网络的训练"
   ]
  },
  {
   "cell_type": "code",
   "execution_count": 12,
   "metadata": {
    "id": "5A261CD50D95464F8690D1E8DFD0AB5B",
    "jupyter": {},
    "scrolled": false,
    "slideshow": {
     "slide_type": "slide"
    },
    "tags": []
   },
   "outputs": [
    {
     "data": {
      "text/html": [
       "<div>\n",
       "<style scoped>\n",
       "    .dataframe tbody tr th:only-of-type {\n",
       "        vertical-align: middle;\n",
       "    }\n",
       "\n",
       "    .dataframe tbody tr th {\n",
       "        vertical-align: top;\n",
       "    }\n",
       "\n",
       "    .dataframe thead th {\n",
       "        text-align: right;\n",
       "    }\n",
       "</style>\n",
       "<table border=\"1\" class=\"dataframe\">\n",
       "  <thead>\n",
       "    <tr style=\"text-align: right;\">\n",
       "      <th></th>\n",
       "      <th>体育</th>\n",
       "      <th>娱乐</th>\n",
       "      <th>家居</th>\n",
       "      <th>房产</th>\n",
       "      <th>教育</th>\n",
       "      <th>时尚</th>\n",
       "      <th>时政</th>\n",
       "      <th>游戏</th>\n",
       "      <th>科技</th>\n",
       "      <th>财经</th>\n",
       "    </tr>\n",
       "  </thead>\n",
       "  <tbody>\n",
       "    <tr>\n",
       "      <td>体育</td>\n",
       "      <td>962</td>\n",
       "      <td>2</td>\n",
       "      <td>1</td>\n",
       "      <td>0</td>\n",
       "      <td>22</td>\n",
       "      <td>1</td>\n",
       "      <td>0</td>\n",
       "      <td>4</td>\n",
       "      <td>8</td>\n",
       "      <td>0</td>\n",
       "    </tr>\n",
       "    <tr>\n",
       "      <td>娱乐</td>\n",
       "      <td>2</td>\n",
       "      <td>907</td>\n",
       "      <td>6</td>\n",
       "      <td>0</td>\n",
       "      <td>32</td>\n",
       "      <td>18</td>\n",
       "      <td>4</td>\n",
       "      <td>20</td>\n",
       "      <td>11</td>\n",
       "      <td>0</td>\n",
       "    </tr>\n",
       "    <tr>\n",
       "      <td>家居</td>\n",
       "      <td>0</td>\n",
       "      <td>28</td>\n",
       "      <td>435</td>\n",
       "      <td>0</td>\n",
       "      <td>104</td>\n",
       "      <td>79</td>\n",
       "      <td>114</td>\n",
       "      <td>34</td>\n",
       "      <td>84</td>\n",
       "      <td>122</td>\n",
       "    </tr>\n",
       "    <tr>\n",
       "      <td>房产</td>\n",
       "      <td>0</td>\n",
       "      <td>1</td>\n",
       "      <td>0</td>\n",
       "      <td>995</td>\n",
       "      <td>0</td>\n",
       "      <td>2</td>\n",
       "      <td>1</td>\n",
       "      <td>1</td>\n",
       "      <td>0</td>\n",
       "      <td>0</td>\n",
       "    </tr>\n",
       "    <tr>\n",
       "      <td>教育</td>\n",
       "      <td>6</td>\n",
       "      <td>11</td>\n",
       "      <td>2</td>\n",
       "      <td>0</td>\n",
       "      <td>912</td>\n",
       "      <td>5</td>\n",
       "      <td>20</td>\n",
       "      <td>12</td>\n",
       "      <td>31</td>\n",
       "      <td>1</td>\n",
       "    </tr>\n",
       "    <tr>\n",
       "      <td>时尚</td>\n",
       "      <td>1</td>\n",
       "      <td>15</td>\n",
       "      <td>16</td>\n",
       "      <td>0</td>\n",
       "      <td>12</td>\n",
       "      <td>917</td>\n",
       "      <td>1</td>\n",
       "      <td>15</td>\n",
       "      <td>23</td>\n",
       "      <td>0</td>\n",
       "    </tr>\n",
       "    <tr>\n",
       "      <td>时政</td>\n",
       "      <td>0</td>\n",
       "      <td>7</td>\n",
       "      <td>1</td>\n",
       "      <td>0</td>\n",
       "      <td>70</td>\n",
       "      <td>3</td>\n",
       "      <td>861</td>\n",
       "      <td>8</td>\n",
       "      <td>19</td>\n",
       "      <td>31</td>\n",
       "    </tr>\n",
       "    <tr>\n",
       "      <td>游戏</td>\n",
       "      <td>1</td>\n",
       "      <td>19</td>\n",
       "      <td>2</td>\n",
       "      <td>0</td>\n",
       "      <td>7</td>\n",
       "      <td>9</td>\n",
       "      <td>2</td>\n",
       "      <td>941</td>\n",
       "      <td>16</td>\n",
       "      <td>3</td>\n",
       "    </tr>\n",
       "    <tr>\n",
       "      <td>科技</td>\n",
       "      <td>1</td>\n",
       "      <td>2</td>\n",
       "      <td>0</td>\n",
       "      <td>0</td>\n",
       "      <td>4</td>\n",
       "      <td>10</td>\n",
       "      <td>3</td>\n",
       "      <td>32</td>\n",
       "      <td>948</td>\n",
       "      <td>0</td>\n",
       "    </tr>\n",
       "    <tr>\n",
       "      <td>财经</td>\n",
       "      <td>0</td>\n",
       "      <td>1</td>\n",
       "      <td>2</td>\n",
       "      <td>0</td>\n",
       "      <td>16</td>\n",
       "      <td>0</td>\n",
       "      <td>34</td>\n",
       "      <td>0</td>\n",
       "      <td>5</td>\n",
       "      <td>942</td>\n",
       "    </tr>\n",
       "  </tbody>\n",
       "</table>\n",
       "</div>"
      ],
      "text/plain": [
       "     体育   娱乐   家居   房产   教育   时尚   时政   游戏   科技   财经\n",
       "体育  962    2    1    0   22    1    0    4    8    0\n",
       "娱乐    2  907    6    0   32   18    4   20   11    0\n",
       "家居    0   28  435    0  104   79  114   34   84  122\n",
       "房产    0    1    0  995    0    2    1    1    0    0\n",
       "教育    6   11    2    0  912    5   20   12   31    1\n",
       "时尚    1   15   16    0   12  917    1   15   23    0\n",
       "时政    0    7    1    0   70    3  861    8   19   31\n",
       "游戏    1   19    2    0    7    9    2  941   16    3\n",
       "科技    1    2    0    0    4   10    3   32  948    0\n",
       "财经    0    1    2    0   16    0   34    0    5  942"
      ]
     },
     "execution_count": 12,
     "metadata": {},
     "output_type": "execute_result"
    }
   ],
   "source": [
    "##计算混淆矩阵\n",
    " \n",
    "import numpy as np\n",
    "import pandas as pd\n",
    "from sklearn.metrics import confusion_matrix\n",
    " \n",
    "def predictAll(test_X, batch_size=100):\n",
    "    predict_value_list = []\n",
    "    for i in range(0, len(test_X), batch_size):\n",
    "        selected_X = test_X[i: i + batch_size]\n",
    "        predict_value = session.run(predict_Y, {X_holder:selected_X})\n",
    "        predict_value_list.extend(predict_value)\n",
    "    return np.array(predict_value_list)\n",
    " \n",
    "Y = predictAll(test_X)\n",
    "y = np.argmax(Y, axis=1)\n",
    "predict_label_list = labelEncoder.inverse_transform(y)\n",
    "pd.DataFrame(confusion_matrix(test_label_list, predict_label_list), \n",
    "             columns=labelEncoder.classes_,\n",
    "             index=labelEncoder.classes_ )\n",
    " \n",
    "#从混淆矩阵的结果可以看出哪些分类效果较差。"
   ]
  },
  {
   "cell_type": "code",
   "execution_count": 13,
   "metadata": {
    "id": "0F44C1774DA9499794CF45927AAF65B7",
    "jupyter": {},
    "scrolled": false,
    "slideshow": {
     "slide_type": "slide"
    },
    "tags": []
   },
   "outputs": [
    {
     "data": {
      "text/html": [
       "<div>\n",
       "<style scoped>\n",
       "    .dataframe tbody tr th:only-of-type {\n",
       "        vertical-align: middle;\n",
       "    }\n",
       "\n",
       "    .dataframe tbody tr th {\n",
       "        vertical-align: top;\n",
       "    }\n",
       "\n",
       "    .dataframe thead th {\n",
       "        text-align: right;\n",
       "    }\n",
       "</style>\n",
       "<table border=\"1\" class=\"dataframe\">\n",
       "  <thead>\n",
       "    <tr style=\"text-align: right;\">\n",
       "      <th></th>\n",
       "      <th>Label</th>\n",
       "      <th>Precision</th>\n",
       "      <th>Recall</th>\n",
       "      <th>F1</th>\n",
       "      <th>Support</th>\n",
       "    </tr>\n",
       "  </thead>\n",
       "  <tbody>\n",
       "    <tr>\n",
       "      <td>0</td>\n",
       "      <td>体育</td>\n",
       "      <td>0.988695</td>\n",
       "      <td>0.962</td>\n",
       "      <td>0.975165</td>\n",
       "      <td>1000</td>\n",
       "    </tr>\n",
       "    <tr>\n",
       "      <td>1</td>\n",
       "      <td>娱乐</td>\n",
       "      <td>0.913394</td>\n",
       "      <td>0.907</td>\n",
       "      <td>0.910186</td>\n",
       "      <td>1000</td>\n",
       "    </tr>\n",
       "    <tr>\n",
       "      <td>2</td>\n",
       "      <td>家居</td>\n",
       "      <td>0.935484</td>\n",
       "      <td>0.435</td>\n",
       "      <td>0.593857</td>\n",
       "      <td>1000</td>\n",
       "    </tr>\n",
       "    <tr>\n",
       "      <td>3</td>\n",
       "      <td>房产</td>\n",
       "      <td>1.000000</td>\n",
       "      <td>0.995</td>\n",
       "      <td>0.997494</td>\n",
       "      <td>1000</td>\n",
       "    </tr>\n",
       "    <tr>\n",
       "      <td>4</td>\n",
       "      <td>教育</td>\n",
       "      <td>0.773537</td>\n",
       "      <td>0.912</td>\n",
       "      <td>0.837081</td>\n",
       "      <td>1000</td>\n",
       "    </tr>\n",
       "    <tr>\n",
       "      <td>5</td>\n",
       "      <td>时尚</td>\n",
       "      <td>0.878352</td>\n",
       "      <td>0.917</td>\n",
       "      <td>0.897260</td>\n",
       "      <td>1000</td>\n",
       "    </tr>\n",
       "    <tr>\n",
       "      <td>6</td>\n",
       "      <td>时政</td>\n",
       "      <td>0.827885</td>\n",
       "      <td>0.861</td>\n",
       "      <td>0.844118</td>\n",
       "      <td>1000</td>\n",
       "    </tr>\n",
       "    <tr>\n",
       "      <td>7</td>\n",
       "      <td>游戏</td>\n",
       "      <td>0.881912</td>\n",
       "      <td>0.941</td>\n",
       "      <td>0.910498</td>\n",
       "      <td>1000</td>\n",
       "    </tr>\n",
       "    <tr>\n",
       "      <td>8</td>\n",
       "      <td>科技</td>\n",
       "      <td>0.827948</td>\n",
       "      <td>0.948</td>\n",
       "      <td>0.883916</td>\n",
       "      <td>1000</td>\n",
       "    </tr>\n",
       "    <tr>\n",
       "      <td>9</td>\n",
       "      <td>财经</td>\n",
       "      <td>0.857143</td>\n",
       "      <td>0.942</td>\n",
       "      <td>0.897570</td>\n",
       "      <td>1000</td>\n",
       "    </tr>\n",
       "    <tr>\n",
       "      <td>999</td>\n",
       "      <td>总体</td>\n",
       "      <td>0.888435</td>\n",
       "      <td>0.882</td>\n",
       "      <td>0.874714</td>\n",
       "      <td>10000</td>\n",
       "    </tr>\n",
       "  </tbody>\n",
       "</table>\n",
       "</div>"
      ],
      "text/plain": [
       "    Label  Precision  Recall        F1  Support\n",
       "0      体育   0.988695   0.962  0.975165     1000\n",
       "1      娱乐   0.913394   0.907  0.910186     1000\n",
       "2      家居   0.935484   0.435  0.593857     1000\n",
       "3      房产   1.000000   0.995  0.997494     1000\n",
       "4      教育   0.773537   0.912  0.837081     1000\n",
       "5      时尚   0.878352   0.917  0.897260     1000\n",
       "6      时政   0.827885   0.861  0.844118     1000\n",
       "7      游戏   0.881912   0.941  0.910498     1000\n",
       "8      科技   0.827948   0.948  0.883916     1000\n",
       "9      财经   0.857143   0.942  0.897570     1000\n",
       "999    总体   0.888435   0.882  0.874714    10000"
      ]
     },
     "execution_count": 13,
     "metadata": {},
     "output_type": "execute_result"
    }
   ],
   "source": [
    "##报告表\n",
    " \n",
    "#下面一段代码能够成功运行的前提是已经运行混淆矩阵代码。\n",
    " \n",
    "import numpy as np\n",
    "from sklearn.metrics import precision_recall_fscore_support\n",
    " \n",
    "def eval_model(y_true, y_pred, labels):\n",
    "    # 计算每个分类的Precision, Recall, f1, support\n",
    "    p, r, f1, s = precision_recall_fscore_support(y_true, y_pred)\n",
    "    # 计算总体的平均Precision, Recall, f1, support\n",
    "    tot_p = np.average(p, weights=s)\n",
    "    tot_r = np.average(r, weights=s)\n",
    "    tot_f1 = np.average(f1, weights=s)\n",
    "    tot_s = np.sum(s)\n",
    "    res1 = pd.DataFrame({\n",
    "        u'Label': labels,\n",
    "        u'Precision': p,\n",
    "        u'Recall': r,\n",
    "        u'F1': f1,\n",
    "        u'Support': s\n",
    "    })\n",
    "    res2 = pd.DataFrame({\n",
    "        u'Label': ['总体'],\n",
    "        u'Precision': [tot_p],\n",
    "        u'Recall': [tot_r],\n",
    "        u'F1': [tot_f1],\n",
    "        u'Support': [tot_s]\n",
    "    })\n",
    "    res2.index = [999]\n",
    "    res = pd.concat([res1, res2])\n",
    "    return res[['Label', 'Precision', 'Recall', 'F1', 'Support']]\n",
    " \n",
    "eval_model(test_label_list, predict_label_list, labelEncoder.classes_)"
   ]
  }
 ],
 "metadata": {
  "kernelspec": {
   "display_name": "Python 3",
   "language": "python",
   "name": "python3"
  },
  "language_info": {
   "codemirror_mode": {
    "name": "ipython",
    "version": 3
   },
   "file_extension": ".py",
   "mimetype": "text/x-python",
   "name": "python",
   "nbconvert_exporter": "python",
   "pygments_lexer": "ipython3",
   "version": "3.7.3"
  }
 },
 "nbformat": 4,
 "nbformat_minor": 1
}
